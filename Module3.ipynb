{
 "cells": [
  {
   "cell_type": "markdown",
   "metadata": {},
   "source": [
    "# Module 3"
   ]
  },
  {
   "cell_type": "markdown",
   "metadata": {},
   "source": [
    "Importing libraries"
   ]
  },
  {
   "cell_type": "code",
   "execution_count": 1,
   "metadata": {},
   "outputs": [],
   "source": [
    "import pandas as pd #Data-Wrangling library\n",
    "import numpy as np #Numerical Python library\n",
    "import matplotlib.pyplot as plt #Data-Visualization library\n",
    "import seaborn as sns #Data-Visualization library"
   ]
  },
  {
   "cell_type": "markdown",
   "metadata": {},
   "source": [
    "## 3.1 "
   ]
  },
  {
   "cell_type": "code",
   "execution_count": 2,
   "metadata": {},
   "outputs": [],
   "source": [
    "#Loading gold.csv\n",
    "df_gold = pd.read_csv('Datasets/Gold/GOLD.csv')"
   ]
  },
  {
   "cell_type": "code",
   "execution_count": 3,
   "metadata": {},
   "outputs": [
    {
     "data": {
      "text/html": [
       "<div>\n",
       "<style scoped>\n",
       "    .dataframe tbody tr th:only-of-type {\n",
       "        vertical-align: middle;\n",
       "    }\n",
       "\n",
       "    .dataframe tbody tr th {\n",
       "        vertical-align: top;\n",
       "    }\n",
       "\n",
       "    .dataframe thead th {\n",
       "        text-align: right;\n",
       "    }\n",
       "</style>\n",
       "<table border=\"1\" class=\"dataframe\">\n",
       "  <thead>\n",
       "    <tr style=\"text-align: right;\">\n",
       "      <th></th>\n",
       "      <th>Date</th>\n",
       "      <th>Price</th>\n",
       "      <th>Open</th>\n",
       "      <th>High</th>\n",
       "      <th>Low</th>\n",
       "      <th>Vol.</th>\n",
       "      <th>Change %</th>\n",
       "      <th>Pred</th>\n",
       "      <th>new</th>\n",
       "    </tr>\n",
       "  </thead>\n",
       "  <tbody>\n",
       "    <tr>\n",
       "      <td>0</td>\n",
       "      <td>May 04, 2017</td>\n",
       "      <td>28060</td>\n",
       "      <td>28400</td>\n",
       "      <td>28482</td>\n",
       "      <td>28025</td>\n",
       "      <td>0.08K</td>\n",
       "      <td>-1.79%</td>\n",
       "      <td>738.0</td>\n",
       "      <td>117.570740</td>\n",
       "    </tr>\n",
       "    <tr>\n",
       "      <td>1</td>\n",
       "      <td>May 05, 2017</td>\n",
       "      <td>28184</td>\n",
       "      <td>28136</td>\n",
       "      <td>28382</td>\n",
       "      <td>28135</td>\n",
       "      <td>0.06K</td>\n",
       "      <td>0.44%</td>\n",
       "      <td>-146.0</td>\n",
       "      <td>295.430176</td>\n",
       "    </tr>\n",
       "    <tr>\n",
       "      <td>2</td>\n",
       "      <td>May 08, 2017</td>\n",
       "      <td>28119</td>\n",
       "      <td>28145</td>\n",
       "      <td>28255</td>\n",
       "      <td>28097</td>\n",
       "      <td>7.85K</td>\n",
       "      <td>-0.23%</td>\n",
       "      <td>30.0</td>\n",
       "      <td>132.123714</td>\n",
       "    </tr>\n",
       "    <tr>\n",
       "      <td>3</td>\n",
       "      <td>May 09, 2017</td>\n",
       "      <td>27981</td>\n",
       "      <td>28125</td>\n",
       "      <td>28192</td>\n",
       "      <td>27947</td>\n",
       "      <td>10.10K</td>\n",
       "      <td>-0.49%</td>\n",
       "      <td>357.0</td>\n",
       "      <td>101.298064</td>\n",
       "    </tr>\n",
       "    <tr>\n",
       "      <td>4</td>\n",
       "      <td>May 10, 2017</td>\n",
       "      <td>28007</td>\n",
       "      <td>28060</td>\n",
       "      <td>28146</td>\n",
       "      <td>27981</td>\n",
       "      <td>9.28K</td>\n",
       "      <td>0.09%</td>\n",
       "      <td>124.0</td>\n",
       "      <td>112.153318</td>\n",
       "    </tr>\n",
       "  </tbody>\n",
       "</table>\n",
       "</div>"
      ],
      "text/plain": [
       "           Date  Price   Open   High    Low    Vol. Change %   Pred  \\\n",
       "0  May 04, 2017  28060  28400  28482  28025   0.08K   -1.79%  738.0   \n",
       "1  May 05, 2017  28184  28136  28382  28135   0.06K    0.44% -146.0   \n",
       "2  May 08, 2017  28119  28145  28255  28097   7.85K   -0.23%   30.0   \n",
       "3  May 09, 2017  27981  28125  28192  27947  10.10K   -0.49%  357.0   \n",
       "4  May 10, 2017  28007  28060  28146  27981   9.28K    0.09%  124.0   \n",
       "\n",
       "          new  \n",
       "0  117.570740  \n",
       "1  295.430176  \n",
       "2  132.123714  \n",
       "3  101.298064  \n",
       "4  112.153318  "
      ]
     },
     "execution_count": 3,
     "metadata": {},
     "output_type": "execute_result"
    }
   ],
   "source": [
    "#First five rows\n",
    "df_gold.head()"
   ]
  },
  {
   "cell_type": "code",
   "execution_count": 4,
   "metadata": {},
   "outputs": [
    {
     "data": {
      "text/html": [
       "<div>\n",
       "<style scoped>\n",
       "    .dataframe tbody tr th:only-of-type {\n",
       "        vertical-align: middle;\n",
       "    }\n",
       "\n",
       "    .dataframe tbody tr th {\n",
       "        vertical-align: top;\n",
       "    }\n",
       "\n",
       "    .dataframe thead th {\n",
       "        text-align: right;\n",
       "    }\n",
       "</style>\n",
       "<table border=\"1\" class=\"dataframe\">\n",
       "  <thead>\n",
       "    <tr style=\"text-align: right;\">\n",
       "      <th></th>\n",
       "      <th>Date</th>\n",
       "      <th>Price</th>\n",
       "      <th>Open</th>\n",
       "      <th>High</th>\n",
       "      <th>Low</th>\n",
       "      <th>Vol.</th>\n",
       "      <th>Change %</th>\n",
       "      <th>Pred</th>\n",
       "      <th>new</th>\n",
       "    </tr>\n",
       "  </thead>\n",
       "  <tbody>\n",
       "    <tr>\n",
       "      <td>507</td>\n",
       "      <td>Apr 26, 2019</td>\n",
       "      <td>31868</td>\n",
       "      <td>31851</td>\n",
       "      <td>31934</td>\n",
       "      <td>31705</td>\n",
       "      <td>9.67K</td>\n",
       "      <td>0.08%</td>\n",
       "      <td>NaN</td>\n",
       "      <td>247.177322</td>\n",
       "    </tr>\n",
       "    <tr>\n",
       "      <td>508</td>\n",
       "      <td>Apr 30, 2019</td>\n",
       "      <td>31625</td>\n",
       "      <td>31800</td>\n",
       "      <td>31824</td>\n",
       "      <td>31597</td>\n",
       "      <td>6.44K</td>\n",
       "      <td>-0.76%</td>\n",
       "      <td>NaN</td>\n",
       "      <td>52.201158</td>\n",
       "    </tr>\n",
       "    <tr>\n",
       "      <td>509</td>\n",
       "      <td>May 01, 2019</td>\n",
       "      <td>31563</td>\n",
       "      <td>31604</td>\n",
       "      <td>31657</td>\n",
       "      <td>31503</td>\n",
       "      <td>1.55K</td>\n",
       "      <td>-0.20%</td>\n",
       "      <td>NaN</td>\n",
       "      <td>113.293305</td>\n",
       "    </tr>\n",
       "    <tr>\n",
       "      <td>510</td>\n",
       "      <td>May 02, 2019</td>\n",
       "      <td>31203</td>\n",
       "      <td>31420</td>\n",
       "      <td>31425</td>\n",
       "      <td>31160</td>\n",
       "      <td>0.48K</td>\n",
       "      <td>-1.14%</td>\n",
       "      <td>NaN</td>\n",
       "      <td>48.365693</td>\n",
       "    </tr>\n",
       "    <tr>\n",
       "      <td>511</td>\n",
       "      <td>May 03, 2019</td>\n",
       "      <td>31341</td>\n",
       "      <td>31250</td>\n",
       "      <td>31500</td>\n",
       "      <td>31163</td>\n",
       "      <td>0.08K</td>\n",
       "      <td>0.44%</td>\n",
       "      <td>NaN</td>\n",
       "      <td>429.924911</td>\n",
       "    </tr>\n",
       "  </tbody>\n",
       "</table>\n",
       "</div>"
      ],
      "text/plain": [
       "             Date  Price   Open   High    Low   Vol. Change %  Pred  \\\n",
       "507  Apr 26, 2019  31868  31851  31934  31705  9.67K    0.08%   NaN   \n",
       "508  Apr 30, 2019  31625  31800  31824  31597  6.44K   -0.76%   NaN   \n",
       "509  May 01, 2019  31563  31604  31657  31503  1.55K   -0.20%   NaN   \n",
       "510  May 02, 2019  31203  31420  31425  31160  0.48K   -1.14%   NaN   \n",
       "511  May 03, 2019  31341  31250  31500  31163  0.08K    0.44%   NaN   \n",
       "\n",
       "            new  \n",
       "507  247.177322  \n",
       "508   52.201158  \n",
       "509  113.293305  \n",
       "510   48.365693  \n",
       "511  429.924911  "
      ]
     },
     "execution_count": 4,
     "metadata": {},
     "output_type": "execute_result"
    }
   ],
   "source": [
    "#Last five rows\n",
    "df_gold.tail()"
   ]
  },
  {
   "cell_type": "code",
   "execution_count": 5,
   "metadata": {},
   "outputs": [
    {
     "data": {
      "text/html": [
       "<div>\n",
       "<style scoped>\n",
       "    .dataframe tbody tr th:only-of-type {\n",
       "        vertical-align: middle;\n",
       "    }\n",
       "\n",
       "    .dataframe tbody tr th {\n",
       "        vertical-align: top;\n",
       "    }\n",
       "\n",
       "    .dataframe thead th {\n",
       "        text-align: right;\n",
       "    }\n",
       "</style>\n",
       "<table border=\"1\" class=\"dataframe\">\n",
       "  <thead>\n",
       "    <tr style=\"text-align: right;\">\n",
       "      <th></th>\n",
       "      <th>Price</th>\n",
       "      <th>Open</th>\n",
       "      <th>High</th>\n",
       "      <th>Low</th>\n",
       "      <th>Pred</th>\n",
       "      <th>new</th>\n",
       "    </tr>\n",
       "  </thead>\n",
       "  <tbody>\n",
       "    <tr>\n",
       "      <td>count</td>\n",
       "      <td>512.000000</td>\n",
       "      <td>512.000000</td>\n",
       "      <td>512.000000</td>\n",
       "      <td>512.000000</td>\n",
       "      <td>411.000000</td>\n",
       "      <td>512.000000</td>\n",
       "    </tr>\n",
       "    <tr>\n",
       "      <td>mean</td>\n",
       "      <td>30364.583984</td>\n",
       "      <td>30368.412109</td>\n",
       "      <td>30491.089844</td>\n",
       "      <td>30243.320312</td>\n",
       "      <td>341.712895</td>\n",
       "      <td>245.161859</td>\n",
       "    </tr>\n",
       "    <tr>\n",
       "      <td>std</td>\n",
       "      <td>1284.378623</td>\n",
       "      <td>1296.856656</td>\n",
       "      <td>1307.031684</td>\n",
       "      <td>1271.936410</td>\n",
       "      <td>271.075609</td>\n",
       "      <td>205.788897</td>\n",
       "    </tr>\n",
       "    <tr>\n",
       "      <td>min</td>\n",
       "      <td>27812.000000</td>\n",
       "      <td>27805.000000</td>\n",
       "      <td>27887.000000</td>\n",
       "      <td>27620.000000</td>\n",
       "      <td>-146.000000</td>\n",
       "      <td>11.109814</td>\n",
       "    </tr>\n",
       "    <tr>\n",
       "      <td>25%</td>\n",
       "      <td>29432.500000</td>\n",
       "      <td>29436.750000</td>\n",
       "      <td>29499.750000</td>\n",
       "      <td>29345.750000</td>\n",
       "      <td>156.500000</td>\n",
       "      <td>101.369172</td>\n",
       "    </tr>\n",
       "    <tr>\n",
       "      <td>50%</td>\n",
       "      <td>30427.500000</td>\n",
       "      <td>30399.500000</td>\n",
       "      <td>30545.000000</td>\n",
       "      <td>30286.000000</td>\n",
       "      <td>299.000000</td>\n",
       "      <td>184.537244</td>\n",
       "    </tr>\n",
       "    <tr>\n",
       "      <td>75%</td>\n",
       "      <td>31271.750000</td>\n",
       "      <td>31300.000000</td>\n",
       "      <td>31447.500000</td>\n",
       "      <td>31160.750000</td>\n",
       "      <td>475.000000</td>\n",
       "      <td>320.835031</td>\n",
       "    </tr>\n",
       "    <tr>\n",
       "      <td>max</td>\n",
       "      <td>33753.000000</td>\n",
       "      <td>34247.000000</td>\n",
       "      <td>34400.000000</td>\n",
       "      <td>33680.000000</td>\n",
       "      <td>2210.000000</td>\n",
       "      <td>1407.321485</td>\n",
       "    </tr>\n",
       "  </tbody>\n",
       "</table>\n",
       "</div>"
      ],
      "text/plain": [
       "              Price          Open          High           Low         Pred  \\\n",
       "count    512.000000    512.000000    512.000000    512.000000   411.000000   \n",
       "mean   30364.583984  30368.412109  30491.089844  30243.320312   341.712895   \n",
       "std     1284.378623   1296.856656   1307.031684   1271.936410   271.075609   \n",
       "min    27812.000000  27805.000000  27887.000000  27620.000000  -146.000000   \n",
       "25%    29432.500000  29436.750000  29499.750000  29345.750000   156.500000   \n",
       "50%    30427.500000  30399.500000  30545.000000  30286.000000   299.000000   \n",
       "75%    31271.750000  31300.000000  31447.500000  31160.750000   475.000000   \n",
       "max    33753.000000  34247.000000  34400.000000  33680.000000  2210.000000   \n",
       "\n",
       "               new  \n",
       "count   512.000000  \n",
       "mean    245.161859  \n",
       "std     205.788897  \n",
       "min      11.109814  \n",
       "25%     101.369172  \n",
       "50%     184.537244  \n",
       "75%     320.835031  \n",
       "max    1407.321485  "
      ]
     },
     "execution_count": 5,
     "metadata": {},
     "output_type": "execute_result"
    }
   ],
   "source": [
    "#Statistical Summary\n",
    "df_gold.describe()"
   ]
  },
  {
   "cell_type": "code",
   "execution_count": 6,
   "metadata": {},
   "outputs": [
    {
     "data": {
      "text/plain": [
       "(512, 9)"
      ]
     },
     "execution_count": 6,
     "metadata": {},
     "output_type": "execute_result"
    }
   ],
   "source": [
    "#Dimesions\n",
    "df_gold.shape"
   ]
  },
  {
   "cell_type": "markdown",
   "metadata": {},
   "source": [
    "There are 512 observations and 9 variables."
   ]
  },
  {
   "cell_type": "code",
   "execution_count": 7,
   "metadata": {},
   "outputs": [
    {
     "data": {
      "text/plain": [
       "Date         object\n",
       "Price         int64\n",
       "Open          int64\n",
       "High          int64\n",
       "Low           int64\n",
       "Vol.         object\n",
       "Change %     object\n",
       "Pred        float64\n",
       "new         float64\n",
       "dtype: object"
      ]
     },
     "execution_count": 7,
     "metadata": {},
     "output_type": "execute_result"
    }
   ],
   "source": [
    "#Datatype of each columns\n",
    "df_gold.dtypes"
   ]
  },
  {
   "cell_type": "code",
   "execution_count": 8,
   "metadata": {},
   "outputs": [
    {
     "data": {
      "text/plain": [
       "Date          0\n",
       "Price         0\n",
       "Open          0\n",
       "High          0\n",
       "Low           0\n",
       "Vol.          0\n",
       "Change %      0\n",
       "Pred        101\n",
       "new           0\n",
       "dtype: int64"
      ]
     },
     "execution_count": 8,
     "metadata": {},
     "output_type": "execute_result"
    }
   ],
   "source": [
    "#Missing values in each column\n",
    "df_gold.isnull().sum()"
   ]
  },
  {
   "cell_type": "markdown",
   "metadata": {},
   "source": [
    "There are 101 missing values in Pred column"
   ]
  },
  {
   "cell_type": "code",
   "execution_count": 9,
   "metadata": {},
   "outputs": [],
   "source": [
    "#Importing LinearRegression\n",
    "from sklearn.linear_model import LinearRegression"
   ]
  },
  {
   "cell_type": "code",
   "execution_count": 10,
   "metadata": {},
   "outputs": [
    {
     "data": {
      "text/plain": [
       "LinearRegression(copy_X=True, fit_intercept=True, n_jobs=None, normalize=False)"
      ]
     },
     "execution_count": 10,
     "metadata": {},
     "output_type": "execute_result"
    }
   ],
   "source": [
    "#Creating linear regression object\n",
    "lm = LinearRegression()\n",
    "lm"
   ]
  },
  {
   "cell_type": "code",
   "execution_count": 11,
   "metadata": {},
   "outputs": [],
   "source": [
    "#Storing x and y for predicting Pred column\n",
    "X = df_gold[df_gold['Pred'].notnull()][['Price', 'Open', 'High', 'Low']]\n",
    "Y = df_gold[df_gold['Pred'].notnull()]['Pred']"
   ]
  },
  {
   "cell_type": "code",
   "execution_count": 12,
   "metadata": {},
   "outputs": [
    {
     "name": "stdout",
     "output_type": "stream",
     "text": [
      "Size of trianing set:  349\n",
      "Size of testing set:  62\n"
     ]
    }
   ],
   "source": [
    "#Now we randomly select some part for training and some for testing\n",
    "\n",
    "#import train_test_split\n",
    "from sklearn.model_selection import train_test_split\n",
    "\n",
    "x_train, x_test, y_train, y_test = train_test_split(X, Y, test_size = 0.15, random_state = 1)\n",
    "\n",
    "print(\"Size of trianing set: \", x_train.shape[0])\n",
    "print(\"Size of testing set: \", x_test.shape[0])"
   ]
  },
  {
   "cell_type": "code",
   "execution_count": 13,
   "metadata": {},
   "outputs": [
    {
     "data": {
      "text/plain": [
       "LinearRegression(copy_X=True, fit_intercept=True, n_jobs=None, normalize=False)"
      ]
     },
     "execution_count": 13,
     "metadata": {},
     "output_type": "execute_result"
    }
   ],
   "source": [
    "#Fitting the linear model\n",
    "lm.fit(x_train, y_train)"
   ]
  },
  {
   "cell_type": "code",
   "execution_count": 14,
   "metadata": {},
   "outputs": [
    {
     "data": {
      "text/plain": [
       "1.0"
      ]
     },
     "execution_count": 14,
     "metadata": {},
     "output_type": "execute_result"
    }
   ],
   "source": [
    "#R^2 on train data\n",
    "lm.score(x_train, y_train)"
   ]
  },
  {
   "cell_type": "code",
   "execution_count": 15,
   "metadata": {},
   "outputs": [
    {
     "data": {
      "text/plain": [
       "1.0"
      ]
     },
     "execution_count": 15,
     "metadata": {},
     "output_type": "execute_result"
    }
   ],
   "source": [
    "#R^2 on test data\n",
    "lm.score(x_test, y_test)"
   ]
  },
  {
   "cell_type": "code",
   "execution_count": 16,
   "metadata": {},
   "outputs": [
    {
     "data": {
      "text/plain": [
       "7.747757990728132e-11"
      ]
     },
     "execution_count": 16,
     "metadata": {},
     "output_type": "execute_result"
    }
   ],
   "source": [
    "#Intercept of linear model\n",
    "lm.intercept_"
   ]
  },
  {
   "cell_type": "code",
   "execution_count": 17,
   "metadata": {},
   "outputs": [
    {
     "data": {
      "text/plain": [
       "array([ 2.,  3., -1., -4.])"
      ]
     },
     "execution_count": 17,
     "metadata": {},
     "output_type": "execute_result"
    }
   ],
   "source": [
    "#Coefficients of linear model\n",
    "lm.coef_"
   ]
  },
  {
   "cell_type": "markdown",
   "metadata": {},
   "source": [
    "Our linear regression model is of the form-\n",
    "                <b>Y_hat = 7.74e-11 + 2 * C + 3 * O -  1 * H  -  4 * L </b>"
   ]
  },
  {
   "cell_type": "code",
   "execution_count": 18,
   "metadata": {},
   "outputs": [],
   "source": [
    "Pred_x = df_gold[df_gold['Pred'].isnull()][['Price', 'Open', 'High', 'Low']]\n",
    "Pred_y = df_gold[df_gold['Pred'].isnull()]['Pred']"
   ]
  },
  {
   "cell_type": "code",
   "execution_count": 19,
   "metadata": {},
   "outputs": [],
   "source": [
    "#Filling up the unfilled data\n",
    "df_gold['Pred'] = lm.predict(df_gold[['Price', 'Open', 'High', 'Low']])"
   ]
  },
  {
   "cell_type": "markdown",
   "metadata": {},
   "source": [
    "<b><i> The pred column is linearly related to Price, Open, High, and Low column of GOLD dataset"
   ]
  },
  {
   "cell_type": "code",
   "execution_count": 20,
   "metadata": {},
   "outputs": [],
   "source": [
    "#Storing X and Y for the new column\n",
    "X = df_gold[['Price', 'Open', 'High', 'Low']]\n",
    "Y = df_gold[['new']]"
   ]
  },
  {
   "cell_type": "code",
   "execution_count": 21,
   "metadata": {},
   "outputs": [],
   "source": [
    "#randomly splitting data into train and test\n",
    "x_train, x_test, y_train, y_test = train_test_split(X, Y, test_size = 0.3, random_state = 3)"
   ]
  },
  {
   "cell_type": "code",
   "execution_count": 22,
   "metadata": {},
   "outputs": [
    {
     "data": {
      "text/plain": [
       "LinearRegression(copy_X=True, fit_intercept=True, n_jobs=None, normalize=False)"
      ]
     },
     "execution_count": 22,
     "metadata": {},
     "output_type": "execute_result"
    }
   ],
   "source": [
    "#Try to fit Linear model first\n",
    "lm.fit(x_train, y_train)"
   ]
  },
  {
   "cell_type": "code",
   "execution_count": 23,
   "metadata": {},
   "outputs": [
    {
     "data": {
      "text/plain": [
       "0.9999870514485087"
      ]
     },
     "execution_count": 23,
     "metadata": {},
     "output_type": "execute_result"
    }
   ],
   "source": [
    "#R^2 score on train data\n",
    "lm.score(x_train, y_train)"
   ]
  },
  {
   "cell_type": "code",
   "execution_count": 24,
   "metadata": {},
   "outputs": [
    {
     "data": {
      "text/plain": [
       "0.9999900146732249"
      ]
     },
     "execution_count": 24,
     "metadata": {},
     "output_type": "execute_result"
    }
   ],
   "source": [
    "#R^2 score on test data\n",
    "lm.score(x_test, y_test)"
   ]
  },
  {
   "cell_type": "markdown",
   "metadata": {},
   "source": [
    "Accuracy of our model is quite good. 99 percent of the variability in the outcome is being explained by our model."
   ]
  },
  {
   "cell_type": "code",
   "execution_count": 25,
   "metadata": {},
   "outputs": [],
   "source": [
    "#Fitting polynomial regression model\n",
    "\n",
    "from sklearn.preprocessing import PolynomialFeatures\n",
    "pr = PolynomialFeatures(degree = 3)"
   ]
  },
  {
   "cell_type": "code",
   "execution_count": 26,
   "metadata": {},
   "outputs": [],
   "source": [
    "x_train_pr = pr.fit_transform(x_train)"
   ]
  },
  {
   "cell_type": "code",
   "execution_count": 27,
   "metadata": {},
   "outputs": [],
   "source": [
    "poly = LinearRegression()"
   ]
  },
  {
   "cell_type": "code",
   "execution_count": 28,
   "metadata": {},
   "outputs": [
    {
     "data": {
      "text/plain": [
       "LinearRegression(copy_X=True, fit_intercept=True, n_jobs=None, normalize=False)"
      ]
     },
     "execution_count": 28,
     "metadata": {},
     "output_type": "execute_result"
    }
   ],
   "source": [
    "poly.fit(x_train_pr, y_train)"
   ]
  },
  {
   "cell_type": "code",
   "execution_count": 29,
   "metadata": {},
   "outputs": [
    {
     "data": {
      "text/plain": [
       "0.9999999924829289"
      ]
     },
     "execution_count": 29,
     "metadata": {},
     "output_type": "execute_result"
    }
   ],
   "source": [
    "#R^2 on train data\n",
    "poly.score(x_train_pr, y_train)"
   ]
  },
  {
   "cell_type": "code",
   "execution_count": 30,
   "metadata": {},
   "outputs": [
    {
     "data": {
      "text/plain": [
       "0.9999999941401835"
      ]
     },
     "execution_count": 30,
     "metadata": {},
     "output_type": "execute_result"
    }
   ],
   "source": [
    "#R^2 on test data\n",
    "x_test_pr = pr.fit_transform(x_test)\n",
    "poly.score(x_test_pr, y_test)"
   ]
  },
  {
   "cell_type": "markdown",
   "metadata": {},
   "source": [
    "The accuracy of our model has been improved using the polynomial regression model of degree 3."
   ]
  },
  {
   "cell_type": "markdown",
   "metadata": {},
   "source": [
    "<b><i>new column of our dataset is polynomially related to Price, Open, High and Low columns of our dataset."
   ]
  },
  {
   "cell_type": "markdown",
   "metadata": {},
   "source": [
    "## 3.2 "
   ]
  },
  {
   "cell_type": "code",
   "execution_count": 31,
   "metadata": {},
   "outputs": [],
   "source": [
    "#Loading Infosys stock\n",
    "\n",
    "df_infy = pd.read_csv('Saved Datasets/week2.csv')\n",
    "\n",
    "#Loading Nifty50 market index\n",
    "\n",
    "df_nifty = pd.read_csv('Datasets/Nifty50/Nifty50.csv')"
   ]
  },
  {
   "cell_type": "code",
   "execution_count": 32,
   "metadata": {},
   "outputs": [],
   "source": [
    "#Data Cleaning\n",
    "\n",
    "#Changing datatype of Date column of both dataframes\n",
    "df_infy['Date'] = df_infy['Date'].astype('datetime64')\n",
    "df_nifty['Date'] = pd.to_datetime(df_nifty['Date'], dayfirst = True)"
   ]
  },
  {
   "cell_type": "code",
   "execution_count": 33,
   "metadata": {},
   "outputs": [],
   "source": [
    "#Setting up Date as index of both dataframes\n",
    "\n",
    "df_infy.set_index('Date', inplace = True)\n",
    "df_nifty.set_index('Date', inplace = True)"
   ]
  },
  {
   "cell_type": "code",
   "execution_count": 34,
   "metadata": {},
   "outputs": [],
   "source": [
    "#Merging up Close Price columns of both dataframes\n",
    "df_beta = pd.merge(df_infy[['Close Price', 'Month', 'Year']], df_nifty['Close'], how = 'inner', left_index = True,\n",
    "                   right_index = True)"
   ]
  },
  {
   "cell_type": "code",
   "execution_count": 35,
   "metadata": {},
   "outputs": [],
   "source": [
    "#Renaming columns\n",
    "df_beta.columns = ['Infy','Month', 'Year', 'Nifty50']"
   ]
  },
  {
   "cell_type": "code",
   "execution_count": 36,
   "metadata": {},
   "outputs": [],
   "source": [
    "#Importing libraries to perform regression using OLS\n",
    "import statsmodels.api as sm\n",
    "import statsmodels.formula.api as smf"
   ]
  },
  {
   "cell_type": "code",
   "execution_count": 37,
   "metadata": {},
   "outputs": [],
   "source": [
    "#Building model for calculating daily Beta for last 3 months\n",
    "model = smf.ols('Infy ~ Nifty50', data = df_beta.iloc[-90:-1]).fit()"
   ]
  },
  {
   "cell_type": "code",
   "execution_count": 38,
   "metadata": {},
   "outputs": [
    {
     "name": "stdout",
     "output_type": "stream",
     "text": [
      "                            OLS Regression Results                            \n",
      "==============================================================================\n",
      "Dep. Variable:                   Infy   R-squared:                       0.066\n",
      "Model:                            OLS   Adj. R-squared:                  0.056\n",
      "Method:                 Least Squares   F-statistic:                     6.197\n",
      "Date:                Mon, 08 Jun 2020   Prob (F-statistic):             0.0147\n",
      "Time:                        11:25:41   Log-Likelihood:                -411.37\n",
      "No. Observations:                  89   AIC:                             826.7\n",
      "Df Residuals:                      87   BIC:                             831.7\n",
      "Df Model:                           1                                         \n",
      "Covariance Type:            nonrobust                                         \n",
      "==============================================================================\n",
      "                 coef    std err          t      P>|t|      [0.025      0.975]\n",
      "------------------------------------------------------------------------------\n",
      "Intercept    535.5705     77.625      6.899      0.000     381.283     689.858\n",
      "Nifty50        0.0173      0.007      2.489      0.015       0.003       0.031\n",
      "==============================================================================\n",
      "Omnibus:                        9.014   Durbin-Watson:                   0.127\n",
      "Prob(Omnibus):                  0.011   Jarque-Bera (JB):                9.289\n",
      "Skew:                          -0.789   Prob(JB):                      0.00961\n",
      "Kurtosis:                       3.112   Cond. No.                     3.29e+05\n",
      "==============================================================================\n",
      "\n",
      "Warnings:\n",
      "[1] Standard Errors assume that the covariance matrix of the errors is correctly specified.\n",
      "[2] The condition number is large, 3.29e+05. This might indicate that there are\n",
      "strong multicollinearity or other numerical problems.\n"
     ]
    }
   ],
   "source": [
    "print(model.summary())"
   ]
  },
  {
   "cell_type": "markdown",
   "metadata": {},
   "source": [
    "<b>Beta coefficient for last 3 months <br/></b>\n",
    "The null hypothesis is that Beta = 0 for the last 3 months.<br/>\n",
    "The Beta value calculated from our model is 0.0173 and the p-value associated with the t-stat of 2.489 is 0.015 which is lower than 0.05. So we reject the null hypothesis and there is relationship exists between the returns of market index Nifty50 and Infosys.<br/>\n",
    "The value of R^2 statistic is 0.066 that means 6.6% of the variability in returns of Infosys is explained by the returns of Nifty. That indicates a very week relationship between the two of them.<br/>\n",
    "The value of Beta is 0.0173 that means the increase of 10000 rupee in returns of Nifty will result in gain of 173 in the returns of Infosys. It also indicates that for the last 3 months shares of Infosys are less volatile relative to Nifty."
   ]
  },
  {
   "cell_type": "code",
   "execution_count": 39,
   "metadata": {},
   "outputs": [
    {
     "name": "stdout",
     "output_type": "stream",
     "text": [
      "                            OLS Regression Results                            \n",
      "==============================================================================\n",
      "Dep. Variable:                   Infy   R-squared:                       0.009\n",
      "Model:                            OLS   Adj. R-squared:                 -0.034\n",
      "Method:                 Least Squares   F-statistic:                    0.2204\n",
      "Date:                Mon, 08 Jun 2020   Prob (F-statistic):              0.643\n",
      "Time:                        11:25:45   Log-Likelihood:                -169.66\n",
      "No. Observations:                  25   AIC:                             343.3\n",
      "Df Residuals:                      23   BIC:                             345.8\n",
      "Df Model:                           1                                         \n",
      "Covariance Type:            nonrobust                                         \n",
      "==============================================================================\n",
      "                 coef    std err          t      P>|t|      [0.025      0.975]\n",
      "------------------------------------------------------------------------------\n",
      "Intercept   1339.4002    826.944      1.620      0.119    -371.263    3050.063\n",
      "Nifty50       -0.0366      0.078     -0.469      0.643      -0.198       0.125\n",
      "==============================================================================\n",
      "Omnibus:                        1.863   Durbin-Watson:                   0.404\n",
      "Prob(Omnibus):                  0.394   Jarque-Bera (JB):                1.621\n",
      "Skew:                           0.516   Prob(JB):                        0.445\n",
      "Kurtosis:                       2.298   Cond. No.                     1.96e+05\n",
      "==============================================================================\n",
      "\n",
      "Warnings:\n",
      "[1] Standard Errors assume that the covariance matrix of the errors is correctly specified.\n",
      "[2] The condition number is large, 1.96e+05. This might indicate that there are\n",
      "strong multicollinearity or other numerical problems.\n"
     ]
    }
   ],
   "source": [
    "#Building model for monthly Beta value\n",
    "\n",
    "#Grouping dataset on month\n",
    "df_mbeta = df_beta.groupby(['Year', 'Month'])[['Infy', 'Nifty50']].mean()\n",
    "\n",
    "#Model\n",
    "model_2 = smf.ols('Infy ~ Nifty50', data = df_mbeta).fit()\n",
    "\n",
    "#Summary\n",
    "print(model_2.summary())"
   ]
  },
  {
   "cell_type": "markdown",
   "metadata": {},
   "source": [
    "<b>Monthly Beta coefficient <br/></b>\n",
    "The null hypothesis is that Beta = 0.<br/>\n",
    "The Beta value calculated from our model is -0.0366 and the p-value associated with the t-stat of -0.469 is 0.643 which is greater than 0.05. So we accept the null hypothesis and there is no relationship exists between the returns of market index Nifty50 and Infosys.<br/>\n",
    "The value of R^2 statistic is 0.009 that means 0.9% of the variability in returns of Infosys is explained by the returns of Nifty. That indicates a very week relationship between the two of them.<br/>\n",
    "The value of Beta is -0.0366 that means the increase of 10000 rupee in returns of Nifty will result in loss of 366 in the returns of Infosys. It also indicates that the shares of Infosys are less volatile relative to Nifty."
   ]
  }
 ],
 "metadata": {
  "kernelspec": {
   "display_name": "Python 3",
   "language": "python",
   "name": "python3"
  },
  "language_info": {
   "codemirror_mode": {
    "name": "ipython",
    "version": 3
   },
   "file_extension": ".py",
   "mimetype": "text/x-python",
   "name": "python",
   "nbconvert_exporter": "python",
   "pygments_lexer": "ipython3",
   "version": "3.7.4"
  }
 },
 "nbformat": 4,
 "nbformat_minor": 2
}
