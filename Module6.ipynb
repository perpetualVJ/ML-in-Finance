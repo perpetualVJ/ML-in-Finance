{
 "cells": [
  {
   "cell_type": "markdown",
   "metadata": {},
   "source": [
    "# Module 6"
   ]
  },
  {
   "cell_type": "markdown",
   "metadata": {},
   "source": [
    "#  Clustering for Diversification Analysis"
   ]
  },
  {
   "cell_type": "markdown",
   "metadata": {},
   "source": [
    "Importing libraries"
   ]
  },
  {
   "cell_type": "code",
   "execution_count": 1,
   "metadata": {},
   "outputs": [],
   "source": [
    "import pandas as pd  #Data-Wrangling library\n",
    "import numpy as np #Numerical Python library\n",
    "import matplotlib.pyplot as plt #Data Visualization library\n",
    "import seaborn  as sns #Data Visualization Library"
   ]
  },
  {
   "cell_type": "code",
   "execution_count": 2,
   "metadata": {},
   "outputs": [
    {
     "data": {
      "text/plain": [
       "'%.6f'"
      ]
     },
     "execution_count": 2,
     "metadata": {},
     "output_type": "execute_result"
    }
   ],
   "source": [
    "#Setting Precision\n",
    "%precision 6"
   ]
  },
  {
   "cell_type": "markdown",
   "metadata": {},
   "source": [
    "## 6.1 "
   ]
  },
  {
   "cell_type": "code",
   "execution_count": 3,
   "metadata": {},
   "outputs": [],
   "source": [
    "#Loading Close Price of 30 different stocks\n",
    "\n",
    "df1 = pd.read_csv('Datasets/Small_Cap/IDFC.csv', usecols = ['Close Price', 'Date', 'Series'])\n",
    "df1.columns = ['Series', 'Date', 'Idfc']\n",
    "df1 = df1[df1['Series'] == 'EQ'][['Date', 'Idfc']]\n",
    "df1['Date'] = pd.to_datetime(df1['Date'])\n",
    "df1.set_index('Date', inplace = True)\n",
    "\n",
    "df2 = pd.read_csv('Datasets/Small_Cap/BAJAJELEC.csv', usecols = ['Close Price', 'Date', 'Series'])\n",
    "df2.columns = ['Series', 'Date','Bajajelec']\n",
    "df2 = df2[df2['Series'] == 'EQ'][['Date', 'Bajajelec']]\n",
    "df2['Date'] = pd.to_datetime(df2['Date'])\n",
    "df2.set_index('Date', inplace = True)\n",
    "\n",
    "df3 = pd.read_csv('Datasets/Small_Cap/FORTIS.csv', usecols = ['Close Price', 'Date', 'Series'])\n",
    "df3.columns = ['Series', 'Date', 'Fortis']\n",
    "df3 = df3[df3['Series'] == 'EQ'][['Date', 'Fortis']]\n",
    "df3['Date'] = pd.to_datetime(df3['Date'])\n",
    "df3.set_index('Date', inplace = True)\n",
    "\n",
    "df4 = pd.read_csv('Datasets/Small_Cap/PVR.csv', usecols = ['Close Price', 'Date', 'Series'])\n",
    "df4.columns = ['Series', 'Date', 'Pvr']\n",
    "df4 = df4[df4['Series'] == 'EQ'][['Date', 'Pvr']]\n",
    "df4['Date'] = pd.to_datetime(df4['Date'])\n",
    "df4.set_index('Date', inplace = True)\n",
    "\n",
    "df5 = pd.read_csv('Datasets/Small_Cap/RAYMOND.csv', usecols = ['Close Price', 'Date', 'Series'])\n",
    "df5.columns = ['Series', 'Date', 'Raymond']\n",
    "df5 = df5[df5['Series'] == 'EQ'][['Date', 'Raymond']]\n",
    "df5['Date'] = pd.to_datetime(df5['Date'])\n",
    "df5.set_index('Date', inplace = True)\n",
    "\n",
    "df6 = pd.read_csv('Datasets/Small_Cap/NCC.csv', usecols = ['Close Price', 'Date', 'Series'])\n",
    "df6.columns = ['Series', 'Date', 'Ncc']\n",
    "df6 = df6[df6['Series'] == 'EQ'][['Date', 'Ncc']]\n",
    "df6['Date'] = pd.to_datetime(df6['Date'])\n",
    "df6.set_index('Date', inplace = True)\n",
    "\n",
    "df7 = pd.read_csv('Datasets/Small_Cap/JKLAKSHMI.csv', usecols = ['Close Price', 'Date', 'Series'])\n",
    "df7.columns = ['Series', 'Date', 'JkLakshmi']\n",
    "df7 = df7[df7['Series'] == 'EQ'][['Date', 'JkLakshmi']]\n",
    "df7['Date'] = pd.to_datetime(df7['Date'])\n",
    "df7.set_index('Date', inplace = True)\n",
    "\n",
    "df8 = pd.read_csv('Datasets/Small_Cap/RCOM.csv', usecols = ['Close Price', 'Date', 'Series'])\n",
    "df8.columns = ['Series', 'Date', 'Rcom']\n",
    "df8 = df8[df8['Series'] == 'EQ'][['Date', 'Rcom']]\n",
    "df8['Date'] = pd.to_datetime(df8['Date'])\n",
    "df8.set_index('Date', inplace = True)\n",
    "\n",
    "df9 = pd.read_csv('Datasets/Small_Cap/SUZLON.csv', usecols = ['Close Price', 'Date', 'Series'])\n",
    "df9.columns = ['Series', 'Date', 'Suzlon']\n",
    "df9 = df9[df9['Series'] == 'EQ'][['Date', 'Suzlon']]\n",
    "df9['Date'] = pd.to_datetime(df9['Date'])\n",
    "df9.set_index('Date', inplace = True)\n",
    "\n",
    "df10 = pd.read_csv('Datasets/Small_Cap/VIPIND.csv', usecols = ['Close Price', 'Date', 'Series'])\n",
    "df10.columns = ['Series', 'Date', 'Vipind']\n",
    "df10 = df10[df10['Series'] == 'EQ'][['Date', 'Vipind']]\n",
    "df10['Date'] = pd.to_datetime(df10['Date'])\n",
    "df10.set_index('Date', inplace = True)\n",
    "\n",
    "df11 = pd.read_csv('Datasets/Mid_Cap/ADANIPOWER.csv', usecols = ['Close Price', 'Date', 'Series'])\n",
    "df11.columns = ['Series', 'Date', 'AdaniPower']\n",
    "df11 = df11[df11['Series'] == 'EQ'][['Date', 'AdaniPower']]\n",
    "df11['Date'] = pd.to_datetime(df11['Date'])\n",
    "df11.set_index('Date', inplace = True)\n",
    "\n",
    "df12 = pd.read_csv('Datasets/Mid_Cap/JUBLFOOD.csv', usecols = ['Close Price', 'Date', 'Series'])\n",
    "df12.columns = ['Series', 'Date', 'JublFood']\n",
    "df12 = df12[df12['Series'] == 'EQ'][['Date', 'JublFood']]\n",
    "df12['Date'] = pd.to_datetime(df12['Date'])\n",
    "df12.set_index('Date', inplace = True)\n",
    "\n",
    "df13 = pd.read_csv('Datasets/Mid_Cap/PNB.csv', usecols = ['Close Price', 'Date', 'Series'])\n",
    "df13.columns = ['Series', 'Date', 'Pnb']\n",
    "df13 = df13[df13['Series'] == 'EQ'][['Date', 'Pnb']]\n",
    "df13['Date'] = pd.to_datetime(df13['Date'])\n",
    "df13.set_index('Date', inplace = True)\n",
    "\n",
    "df14 = pd.read_csv('Datasets/Mid_Cap/BERGEPAINT.csv', usecols = ['Close Price', 'Date', 'Series'])\n",
    "df14.columns = ['Series', 'Date', 'BergePaint']\n",
    "df14 = df14[df14['Series'] == 'EQ'][['Date', 'BergePaint']]\n",
    "df14['Date'] = pd.to_datetime(df14['Date'])\n",
    "df14.set_index('Date', inplace = True)\n",
    "\n",
    "df15 = pd.read_csv('Datasets/Mid_Cap/MRPL.csv', usecols = ['Close Price', 'Date', 'Series'])\n",
    "df15.columns = ['Series', 'Date', 'Mrpl']\n",
    "df15 = df15[df15['Series'] == 'EQ'][['Date', 'Mrpl']]\n",
    "df15['Date'] = pd.to_datetime(df15['Date'])\n",
    "df15.set_index('Date', inplace = True)\n",
    "\n",
    "df16 = pd.read_csv('Datasets/Mid_Cap/APOLLOTYRE.csv', usecols = ['Close Price', 'Date', 'Series'])\n",
    "df16.columns = ['Series', 'Date', 'ApolloTyre']\n",
    "df16 = df16[df16['Series'] == 'EQ'][['Date', 'ApolloTyre']]\n",
    "df16['Date'] = pd.to_datetime(df16['Date'])\n",
    "df16.set_index('Date', inplace = True)\n",
    "\n",
    "df17 = pd.read_csv('Datasets/Mid_Cap/MINDTREE.csv', usecols = ['Close Price', 'Date', 'Series'])\n",
    "df17.columns = ['Series', 'Date', 'Mindtree']\n",
    "df17 = df17[df17['Series'] == 'EQ'][['Date', 'Mindtree']]\n",
    "df17['Date'] = pd.to_datetime(df17['Date'])\n",
    "df17.set_index('Date', inplace = True)\n",
    "\n",
    "df18 = pd.read_csv('Datasets/Mid_Cap/DHFL.csv', usecols = ['Close Price', 'Date', 'Series'])\n",
    "df18.columns = ['Series', 'Date', 'Dhfl']\n",
    "df18 = df18[df18['Series'] == 'EQ'][['Date', 'Dhfl']]\n",
    "df18['Date'] = pd.to_datetime(df18['Date'])\n",
    "df18.set_index('Date', inplace = True)\n",
    "\n",
    "df19 = pd.read_csv('Datasets/Mid_Cap/GODREJIND.csv', usecols = ['Close Price', 'Date', 'Series'])\n",
    "df19.columns = ['Series', 'Date', 'GodrejInd']\n",
    "df19 = df19[df19['Series'] == 'EQ'][['Date', 'GodrejInd']]\n",
    "df19['Date'] = pd.to_datetime(df19['Date'])\n",
    "df19.set_index('Date', inplace = True)\n",
    "\n",
    "df20 = pd.read_csv('Datasets/Mid_Cap/IDBI.csv', usecols = ['Close Price', 'Date', 'Series'])\n",
    "df20.columns = ['Series', 'Date', 'Idbi']\n",
    "df20 = df20[df20['Series'] == 'EQ'][['Date', 'Idbi']]\n",
    "df20['Date'] = pd.to_datetime(df20['Date'])\n",
    "df20.set_index('Date', inplace = True)\n",
    "\n",
    "df21 = pd.read_csv('Datasets/Large_Cap/AXISBANK.csv', usecols = ['Close Price', 'Date', 'Series'])\n",
    "df21.columns = ['Series', 'Date', 'AxisBank']\n",
    "df21 = df21[df21['Series'] == 'EQ'][['Date', 'AxisBank']]\n",
    "df21['Date'] = pd.to_datetime(df21['Date'])\n",
    "df21.set_index('Date', inplace = True)\n",
    "\n",
    "df22 = pd.read_csv('Datasets/Large_Cap/TCS.csv', usecols = ['Close Price', 'Date', 'Series'])\n",
    "df22.columns = ['Series', 'Date', 'Tcs']\n",
    "df22 = df22[df22['Series'] == 'EQ'][['Date', 'Tcs']]\n",
    "df22['Date'] = pd.to_datetime(df22['Date'])\n",
    "df22.set_index('Date', inplace = True)\n",
    "\n",
    "df23 = pd.read_csv('Datasets/Large_Cap/TITAN.csv', usecols = ['Close Price', 'Date', 'Series'])\n",
    "df23.columns = ['Series', 'Date', 'Titan']\n",
    "df23 = df23[df23['Series'] == 'EQ'][['Date', 'Titan']]\n",
    "df23['Date'] = pd.to_datetime(df23['Date'])\n",
    "df23.set_index('Date', inplace = True)\n",
    "\n",
    "df24 = pd.read_csv('Datasets/Large_Cap/INFY.csv', usecols = ['Close Price', 'Date', 'Series'])\n",
    "df24.columns = ['Series', 'Date', 'Infy']\n",
    "df24 = df24[df24['Series'] == 'EQ'][['Date', 'Infy']]\n",
    "df24['Date'] = pd.to_datetime(df24['Date'])\n",
    "df24.set_index('Date', inplace = True)\n",
    "\n",
    "df25 = pd.read_csv('Datasets/Large_Cap/M&M.csv', usecols = ['Close Price', 'Date', 'Series'])\n",
    "df25.columns = ['Series', 'Date', 'M&M']\n",
    "df25 = df25[df25['Series'] == 'EQ'][['Date', 'M&M']]\n",
    "df25['Date'] = pd.to_datetime(df25['Date'])\n",
    "df25.set_index('Date', inplace = True)\n",
    "\n",
    "df26 = pd.read_csv('Datasets/Large_Cap/IOC.csv', usecols = ['Close Price', 'Date', 'Series'])\n",
    "df26.columns = ['Series', 'Date', 'IOC']\n",
    "df26 = df26[df26['Series'] == 'EQ'][['Date', 'IOC']]\n",
    "df26['Date'] = pd.to_datetime(df26['Date'])\n",
    "df26.set_index('Date', inplace = True)\n",
    "\n",
    "df27 = pd.read_csv('Datasets/Large_Cap/ITC.csv', usecols = ['Close Price', 'Date', 'Series'])\n",
    "df27.columns = ['Series', 'Date', 'ITC']\n",
    "df27 = df27[df27['Series'] == 'EQ'][['Date', 'ITC']]\n",
    "df27['Date'] = pd.to_datetime(df27['Date'])\n",
    "df27.set_index('Date', inplace = True)\n",
    "\n",
    "df28 = pd.read_csv('Datasets/Large_Cap/LT.csv', usecols = ['Close Price', 'Date', 'Series'])\n",
    "df28.columns = ['Series', 'Date', 'LT']\n",
    "df28 = df28[df28['Series'] == 'EQ'][['Date', 'LT']]\n",
    "df28['Date'] = pd.to_datetime(df28['Date'])\n",
    "df28.set_index('Date', inplace = True)\n",
    "\n",
    "df29 = pd.read_csv('Datasets/Large_Cap/RELIANCE.csv', usecols = ['Close Price', 'Date', 'Series'])\n",
    "df29.columns = ['Series', 'Date', 'Reliance']\n",
    "df29 = df29[df29['Series'] == 'EQ'][['Date', 'Reliance']]\n",
    "df29['Date'] = pd.to_datetime(df29['Date'])\n",
    "df29.set_index('Date', inplace = True)\n",
    "\n",
    "df30 = pd.read_csv('Datasets/Large_Cap/MARUTI.csv', usecols = ['Close Price', 'Date', 'Series'])\n",
    "df30.columns = ['Series', 'Date', 'Maruti']\n",
    "df30 = df30[df30['Series'] == 'EQ'][['Date', 'Maruti']]\n",
    "df30['Date'] = pd.to_datetime(df30['Date'])\n",
    "df30.set_index('Date', inplace = True)"
   ]
  },
  {
   "cell_type": "code",
   "execution_count": 4,
   "metadata": {},
   "outputs": [],
   "source": [
    "#Creating Dataframe\n",
    "df = pd.concat([df1, df2, df3, df4, df5, df6, df7, df8, df9, df10, df11, df12, df13, df14, df15, df16, df17, df18,\n",
    "                df19, df20,df21, df22, df23, df24, df25, df26, df27, df28, df29, df30], axis = 1)"
   ]
  },
  {
   "cell_type": "code",
   "execution_count": 5,
   "metadata": {
    "scrolled": true
   },
   "outputs": [
    {
     "data": {
      "text/html": [
       "<div>\n",
       "<style scoped>\n",
       "    .dataframe tbody tr th:only-of-type {\n",
       "        vertical-align: middle;\n",
       "    }\n",
       "\n",
       "    .dataframe tbody tr th {\n",
       "        vertical-align: top;\n",
       "    }\n",
       "\n",
       "    .dataframe thead th {\n",
       "        text-align: right;\n",
       "    }\n",
       "</style>\n",
       "<table border=\"1\" class=\"dataframe\">\n",
       "  <thead>\n",
       "    <tr style=\"text-align: right;\">\n",
       "      <th></th>\n",
       "      <th>Idfc</th>\n",
       "      <th>Bajajelec</th>\n",
       "      <th>Fortis</th>\n",
       "      <th>Pvr</th>\n",
       "      <th>Raymond</th>\n",
       "      <th>Ncc</th>\n",
       "      <th>JkLakshmi</th>\n",
       "      <th>Rcom</th>\n",
       "      <th>Suzlon</th>\n",
       "      <th>Vipind</th>\n",
       "      <th>...</th>\n",
       "      <th>AxisBank</th>\n",
       "      <th>Tcs</th>\n",
       "      <th>Titan</th>\n",
       "      <th>Infy</th>\n",
       "      <th>M&amp;M</th>\n",
       "      <th>IOC</th>\n",
       "      <th>ITC</th>\n",
       "      <th>LT</th>\n",
       "      <th>Reliance</th>\n",
       "      <th>Maruti</th>\n",
       "    </tr>\n",
       "    <tr>\n",
       "      <th>Date</th>\n",
       "      <th></th>\n",
       "      <th></th>\n",
       "      <th></th>\n",
       "      <th></th>\n",
       "      <th></th>\n",
       "      <th></th>\n",
       "      <th></th>\n",
       "      <th></th>\n",
       "      <th></th>\n",
       "      <th></th>\n",
       "      <th></th>\n",
       "      <th></th>\n",
       "      <th></th>\n",
       "      <th></th>\n",
       "      <th></th>\n",
       "      <th></th>\n",
       "      <th></th>\n",
       "      <th></th>\n",
       "      <th></th>\n",
       "      <th></th>\n",
       "      <th></th>\n",
       "    </tr>\n",
       "  </thead>\n",
       "  <tbody>\n",
       "    <tr>\n",
       "      <td>2017-05-15</td>\n",
       "      <td>63.70</td>\n",
       "      <td>341.15</td>\n",
       "      <td>205.25</td>\n",
       "      <td>1524.95</td>\n",
       "      <td>772.80</td>\n",
       "      <td>97.35</td>\n",
       "      <td>510.80</td>\n",
       "      <td>32.00</td>\n",
       "      <td>19.6</td>\n",
       "      <td>199.20</td>\n",
       "      <td>...</td>\n",
       "      <td>500.1</td>\n",
       "      <td>2365.10</td>\n",
       "      <td>483.65</td>\n",
       "      <td>951.55</td>\n",
       "      <td>1375.65</td>\n",
       "      <td>442.10</td>\n",
       "      <td>277.95</td>\n",
       "      <td>1742.40</td>\n",
       "      <td>1344.10</td>\n",
       "      <td>6823.90</td>\n",
       "    </tr>\n",
       "    <tr>\n",
       "      <td>2017-05-16</td>\n",
       "      <td>64.25</td>\n",
       "      <td>347.00</td>\n",
       "      <td>207.90</td>\n",
       "      <td>1539.00</td>\n",
       "      <td>785.00</td>\n",
       "      <td>100.40</td>\n",
       "      <td>527.50</td>\n",
       "      <td>32.10</td>\n",
       "      <td>19.7</td>\n",
       "      <td>200.90</td>\n",
       "      <td>...</td>\n",
       "      <td>501.5</td>\n",
       "      <td>2429.15</td>\n",
       "      <td>488.30</td>\n",
       "      <td>955.00</td>\n",
       "      <td>1366.35</td>\n",
       "      <td>446.60</td>\n",
       "      <td>283.45</td>\n",
       "      <td>1740.70</td>\n",
       "      <td>1356.30</td>\n",
       "      <td>6953.95</td>\n",
       "    </tr>\n",
       "    <tr>\n",
       "      <td>2017-05-17</td>\n",
       "      <td>63.35</td>\n",
       "      <td>349.85</td>\n",
       "      <td>205.90</td>\n",
       "      <td>1530.30</td>\n",
       "      <td>783.65</td>\n",
       "      <td>101.45</td>\n",
       "      <td>516.20</td>\n",
       "      <td>31.95</td>\n",
       "      <td>19.9</td>\n",
       "      <td>199.65</td>\n",
       "      <td>...</td>\n",
       "      <td>502.8</td>\n",
       "      <td>2455.35</td>\n",
       "      <td>481.75</td>\n",
       "      <td>952.80</td>\n",
       "      <td>1378.80</td>\n",
       "      <td>444.25</td>\n",
       "      <td>281.65</td>\n",
       "      <td>1755.45</td>\n",
       "      <td>1353.10</td>\n",
       "      <td>6958.20</td>\n",
       "    </tr>\n",
       "    <tr>\n",
       "      <td>2017-05-18</td>\n",
       "      <td>61.50</td>\n",
       "      <td>334.10</td>\n",
       "      <td>196.85</td>\n",
       "      <td>1515.05</td>\n",
       "      <td>746.95</td>\n",
       "      <td>97.00</td>\n",
       "      <td>478.95</td>\n",
       "      <td>31.05</td>\n",
       "      <td>20.0</td>\n",
       "      <td>193.30</td>\n",
       "      <td>...</td>\n",
       "      <td>492.0</td>\n",
       "      <td>2536.20</td>\n",
       "      <td>471.65</td>\n",
       "      <td>961.75</td>\n",
       "      <td>1352.85</td>\n",
       "      <td>439.90</td>\n",
       "      <td>277.90</td>\n",
       "      <td>1722.60</td>\n",
       "      <td>1327.35</td>\n",
       "      <td>6831.05</td>\n",
       "    </tr>\n",
       "    <tr>\n",
       "      <td>2017-05-19</td>\n",
       "      <td>61.15</td>\n",
       "      <td>336.20</td>\n",
       "      <td>203.55</td>\n",
       "      <td>1513.55</td>\n",
       "      <td>723.10</td>\n",
       "      <td>95.45</td>\n",
       "      <td>469.55</td>\n",
       "      <td>30.55</td>\n",
       "      <td>20.6</td>\n",
       "      <td>195.95</td>\n",
       "      <td>...</td>\n",
       "      <td>501.7</td>\n",
       "      <td>2507.15</td>\n",
       "      <td>471.15</td>\n",
       "      <td>957.95</td>\n",
       "      <td>1333.40</td>\n",
       "      <td>435.40</td>\n",
       "      <td>286.20</td>\n",
       "      <td>1724.55</td>\n",
       "      <td>1318.85</td>\n",
       "      <td>6790.55</td>\n",
       "    </tr>\n",
       "  </tbody>\n",
       "</table>\n",
       "<p>5 rows × 30 columns</p>\n",
       "</div>"
      ],
      "text/plain": [
       "             Idfc  Bajajelec  Fortis      Pvr  Raymond     Ncc  JkLakshmi  \\\n",
       "Date                                                                        \n",
       "2017-05-15  63.70     341.15  205.25  1524.95   772.80   97.35     510.80   \n",
       "2017-05-16  64.25     347.00  207.90  1539.00   785.00  100.40     527.50   \n",
       "2017-05-17  63.35     349.85  205.90  1530.30   783.65  101.45     516.20   \n",
       "2017-05-18  61.50     334.10  196.85  1515.05   746.95   97.00     478.95   \n",
       "2017-05-19  61.15     336.20  203.55  1513.55   723.10   95.45     469.55   \n",
       "\n",
       "             Rcom  Suzlon  Vipind  ...  AxisBank      Tcs   Titan    Infy  \\\n",
       "Date                               ...                                      \n",
       "2017-05-15  32.00    19.6  199.20  ...     500.1  2365.10  483.65  951.55   \n",
       "2017-05-16  32.10    19.7  200.90  ...     501.5  2429.15  488.30  955.00   \n",
       "2017-05-17  31.95    19.9  199.65  ...     502.8  2455.35  481.75  952.80   \n",
       "2017-05-18  31.05    20.0  193.30  ...     492.0  2536.20  471.65  961.75   \n",
       "2017-05-19  30.55    20.6  195.95  ...     501.7  2507.15  471.15  957.95   \n",
       "\n",
       "                M&M     IOC     ITC       LT  Reliance   Maruti  \n",
       "Date                                                             \n",
       "2017-05-15  1375.65  442.10  277.95  1742.40   1344.10  6823.90  \n",
       "2017-05-16  1366.35  446.60  283.45  1740.70   1356.30  6953.95  \n",
       "2017-05-17  1378.80  444.25  281.65  1755.45   1353.10  6958.20  \n",
       "2017-05-18  1352.85  439.90  277.90  1722.60   1327.35  6831.05  \n",
       "2017-05-19  1333.40  435.40  286.20  1724.55   1318.85  6790.55  \n",
       "\n",
       "[5 rows x 30 columns]"
      ]
     },
     "execution_count": 5,
     "metadata": {},
     "output_type": "execute_result"
    }
   ],
   "source": [
    "#First five rows of df\n",
    "df.head()"
   ]
  },
  {
   "cell_type": "markdown",
   "metadata": {},
   "source": [
    "## 6.2"
   ]
  },
  {
   "cell_type": "code",
   "execution_count": 6,
   "metadata": {},
   "outputs": [],
   "source": [
    "#Creating new dataframe\n",
    "new_df = df.pct_change()\n",
    "new_df.dropna(inplace = True)"
   ]
  },
  {
   "cell_type": "code",
   "execution_count": 7,
   "metadata": {},
   "outputs": [],
   "source": [
    "#Annual average\n",
    "average = new_df.apply(np.mean) * 252\n",
    "\n",
    "#Annual volatility\n",
    "volatility = new_df.apply(np.std) * np.sqrt(252)"
   ]
  },
  {
   "cell_type": "code",
   "execution_count": 8,
   "metadata": {},
   "outputs": [],
   "source": [
    "#Creating new dataframe\n",
    "df_av = pd.DataFrame({'Average': average, 'Volatility': volatility})"
   ]
  },
  {
   "cell_type": "markdown",
   "metadata": {},
   "source": [
    "## 6.3"
   ]
  },
  {
   "cell_type": "code",
   "execution_count": 9,
   "metadata": {},
   "outputs": [],
   "source": [
    "#Importing Kmeans\n",
    "from sklearn.cluster import KMeans"
   ]
  },
  {
   "cell_type": "code",
   "execution_count": 10,
   "metadata": {},
   "outputs": [
    {
     "data": {
      "text/plain": [
       "Text(0, 0.5, 'Sum of squared distance')"
      ]
     },
     "execution_count": 10,
     "metadata": {},
     "output_type": "execute_result"
    },
    {
     "data": {
      "image/png": "[encoded data removed]",
      "text/plain": [
       "<Figure size 432x432 with 1 Axes>"
      ]
     },
     "metadata": {
      "needs_background": "light"
     },
     "output_type": "display_data"
    }
   ],
   "source": [
    "#Finding optimum K\n",
    "sse = []\n",
    "list_k = list(range(1, 10))\n",
    "\n",
    "for k in list_k:\n",
    "    km = KMeans(init = \"k-means++\", n_clusters = k, n_init = 12)\n",
    "    km.fit(df_av)\n",
    "    sse.append(km.inertia_)\n",
    "\n",
    "# Plot sse against k\n",
    "plt.figure(figsize=(6, 6))\n",
    "plt.plot(list_k, sse, '-o')\n",
    "plt.xlabel(r'Number of clusters *k*')\n",
    "plt.ylabel('Sum of squared distance')"
   ]
  },
  {
   "cell_type": "markdown",
   "metadata": {},
   "source": [
    "The elbow point occurs at K = 4. So K = 4 is the optimum value."
   ]
  },
  {
   "cell_type": "code",
   "execution_count": 11,
   "metadata": {},
   "outputs": [
    {
     "data": {
      "text/plain": [
       "KMeans(algorithm='auto', copy_x=True, init='k-means++', max_iter=300,\n",
       "       n_clusters=4, n_init=12, n_jobs=None, precompute_distances='auto',\n",
       "       random_state=None, tol=0.0001, verbose=0)"
      ]
     },
     "execution_count": 11,
     "metadata": {},
     "output_type": "execute_result"
    }
   ],
   "source": [
    "#Building model for k = 4\n",
    "k_means = KMeans(init = \"k-means++\", n_clusters = 4, n_init = 12)\n",
    "k_means.fit(df_av)"
   ]
  },
  {
   "cell_type": "markdown",
   "metadata": {},
   "source": [
    "## 6.4"
   ]
  },
  {
   "cell_type": "code",
   "execution_count": 12,
   "metadata": {},
   "outputs": [],
   "source": [
    "#Discovering labels\n",
    "df_av['Labels'] = k_means.labels_"
   ]
  },
  {
   "cell_type": "code",
   "execution_count": 13,
   "metadata": {},
   "outputs": [
    {
     "data": {
      "text/html": [
       "<div>\n",
       "<style scoped>\n",
       "    .dataframe tbody tr th:only-of-type {\n",
       "        vertical-align: middle;\n",
       "    }\n",
       "\n",
       "    .dataframe tbody tr th {\n",
       "        vertical-align: top;\n",
       "    }\n",
       "\n",
       "    .dataframe thead th {\n",
       "        text-align: right;\n",
       "    }\n",
       "</style>\n",
       "<table border=\"1\" class=\"dataframe\">\n",
       "  <thead>\n",
       "    <tr style=\"text-align: right;\">\n",
       "      <th></th>\n",
       "      <th>Average</th>\n",
       "      <th>Volatility</th>\n",
       "      <th>Labels</th>\n",
       "    </tr>\n",
       "  </thead>\n",
       "  <tbody>\n",
       "    <tr>\n",
       "      <td>Idfc</td>\n",
       "      <td>-0.245479</td>\n",
       "      <td>0.358939</td>\n",
       "      <td>1</td>\n",
       "    </tr>\n",
       "    <tr>\n",
       "      <td>Bajajelec</td>\n",
       "      <td>0.316053</td>\n",
       "      <td>0.402005</td>\n",
       "      <td>0</td>\n",
       "    </tr>\n",
       "    <tr>\n",
       "      <td>Fortis</td>\n",
       "      <td>-0.145989</td>\n",
       "      <td>0.420823</td>\n",
       "      <td>3</td>\n",
       "    </tr>\n",
       "    <tr>\n",
       "      <td>Pvr</td>\n",
       "      <td>0.111090</td>\n",
       "      <td>0.309883</td>\n",
       "      <td>3</td>\n",
       "    </tr>\n",
       "    <tr>\n",
       "      <td>Raymond</td>\n",
       "      <td>0.070021</td>\n",
       "      <td>0.363465</td>\n",
       "      <td>3</td>\n",
       "    </tr>\n",
       "  </tbody>\n",
       "</table>\n",
       "</div>"
      ],
      "text/plain": [
       "            Average  Volatility  Labels\n",
       "Idfc      -0.245479    0.358939       1\n",
       "Bajajelec  0.316053    0.402005       0\n",
       "Fortis    -0.145989    0.420823       3\n",
       "Pvr        0.111090    0.309883       3\n",
       "Raymond    0.070021    0.363465       3"
      ]
     },
     "execution_count": 13,
     "metadata": {},
     "output_type": "execute_result"
    }
   ],
   "source": [
    "#First five rows of DataFrame\n",
    "df_av.head()"
   ]
  },
  {
   "cell_type": "code",
   "execution_count": 14,
   "metadata": {},
   "outputs": [],
   "source": [
    "df_temp = df_av\n",
    "df_temp.reset_index(inplace = True)\n",
    "df_temp.columns = ['Share', 'Average', 'Volatility', 'Cluster']"
   ]
  },
  {
   "cell_type": "code",
   "execution_count": 15,
   "metadata": {},
   "outputs": [
    {
     "data": {
      "text/plain": [
       "Text(0.5, 1.0, 'Clustering')"
      ]
     },
     "execution_count": 15,
     "metadata": {},
     "output_type": "execute_result"
    },
    {
     "data": {
      "image/png": "[encoded data removed]",
      "text/plain": [
       "<Figure size 1080x504 with 1 Axes>"
      ]
     },
     "metadata": {
      "needs_background": "light"
     },
     "output_type": "display_data"
    }
   ],
   "source": [
    "#Plotting scatterplot of clusters\n",
    "\n",
    "#Setting figuresize\n",
    "plt.figure(figsize = (15, 7))\n",
    "plt.style.use('ggplot')\n",
    "\n",
    "ax = sns.scatterplot(x = 'Volatility', y = 'Average', data = df_temp, hue = 'Cluster', palette=\"gist_rainbow\", legend = 'brief')\n",
    "\n",
    "for i in range(0, df_av.shape[0]):\n",
    "    ax.text(df_temp.loc[i, 'Volatility'], df_temp.loc[i, 'Average'], df_temp.loc[i, 'Share'])\n",
    "    \n",
    "plt.title('Clustering')"
   ]
  }
 ],
 "metadata": {
  "kernelspec": {
   "display_name": "Python 3",
   "language": "python",
   "name": "python3"
  },
  "language_info": {
   "codemirror_mode": {
    "name": "ipython",
    "version": 3
   },
   "file_extension": ".py",
   "mimetype": "text/x-python",
   "name": "python",
   "nbconvert_exporter": "python",
   "pygments_lexer": "ipython3",
   "version": "3.7.4"
  }
 },
 "nbformat": 4,
 "nbformat_minor": 2
}
