{
 "cells": [
  {
   "cell_type": "markdown",
   "metadata": {},
   "source": [
    "#  Module 1"
   ]
  },
  {
   "cell_type": "markdown",
   "metadata": {},
   "source": [
    "#  Introduction to the problem"
   ]
  },
  {
   "cell_type": "markdown",
   "metadata": {},
   "source": [
    "Importing libraries"
   ]
  },
  {
   "cell_type": "code",
   "execution_count": 1,
   "metadata": {},
   "outputs": [],
   "source": [
    "import pandas as pd\n",
    "import numpy as np\n",
    "import matplotlib.pyplot as plt"
   ]
  },
  {
   "cell_type": "markdown",
   "metadata": {},
   "source": [
    "Importing dataset"
   ]
  },
  {
   "cell_type": "markdown",
   "metadata": {},
   "source": [
    "## 1.1 "
   ]
  },
  {
   "cell_type": "code",
   "execution_count": 3,
   "metadata": {},
   "outputs": [],
   "source": [
    "#Loading Dateset\n",
    "df = pd.read_csv('Datasets/INFY.csv')"
   ]
  },
  {
   "cell_type": "code",
   "execution_count": 4,
   "metadata": {},
   "outputs": [
    {
     "data": {
      "text/html": [
       "<div>\n",
       "<style scoped>\n",
       "    .dataframe tbody tr th:only-of-type {\n",
       "        vertical-align: middle;\n",
       "    }\n",
       "\n",
       "    .dataframe tbody tr th {\n",
       "        vertical-align: top;\n",
       "    }\n",
       "\n",
       "    .dataframe thead th {\n",
       "        text-align: right;\n",
       "    }\n",
       "</style>\n",
       "<table border=\"1\" class=\"dataframe\">\n",
       "  <thead>\n",
       "    <tr style=\"text-align: right;\">\n",
       "      <th></th>\n",
       "      <th>Symbol</th>\n",
       "      <th>Series</th>\n",
       "      <th>Date</th>\n",
       "      <th>Prev Close</th>\n",
       "      <th>Open Price</th>\n",
       "      <th>High Price</th>\n",
       "      <th>Low Price</th>\n",
       "      <th>Last Price</th>\n",
       "      <th>Close Price</th>\n",
       "      <th>Average Price</th>\n",
       "      <th>Total Traded Quantity</th>\n",
       "      <th>Turnover</th>\n",
       "      <th>No. of Trades</th>\n",
       "      <th>Deliverable Qty</th>\n",
       "      <th>% Dly Qt to Traded Qty</th>\n",
       "    </tr>\n",
       "  </thead>\n",
       "  <tbody>\n",
       "    <tr>\n",
       "      <td>0</td>\n",
       "      <td>INFY</td>\n",
       "      <td>EQ</td>\n",
       "      <td>15-May-2017</td>\n",
       "      <td>964.25</td>\n",
       "      <td>963.5</td>\n",
       "      <td>963.50</td>\n",
       "      <td>949.10</td>\n",
       "      <td>953.25</td>\n",
       "      <td>951.55</td>\n",
       "      <td>951.49</td>\n",
       "      <td>3648582</td>\n",
       "      <td>3.471580e+09</td>\n",
       "      <td>75335</td>\n",
       "      <td>3052819</td>\n",
       "      <td>83.67</td>\n",
       "    </tr>\n",
       "    <tr>\n",
       "      <td>1</td>\n",
       "      <td>INFY</td>\n",
       "      <td>EQ</td>\n",
       "      <td>16-May-2017</td>\n",
       "      <td>951.55</td>\n",
       "      <td>953.1</td>\n",
       "      <td>960.15</td>\n",
       "      <td>946.95</td>\n",
       "      <td>956.00</td>\n",
       "      <td>955.00</td>\n",
       "      <td>952.92</td>\n",
       "      <td>3065084</td>\n",
       "      <td>2.920775e+09</td>\n",
       "      <td>71808</td>\n",
       "      <td>1858063</td>\n",
       "      <td>60.62</td>\n",
       "    </tr>\n",
       "    <tr>\n",
       "      <td>2</td>\n",
       "      <td>INFY</td>\n",
       "      <td>EQ</td>\n",
       "      <td>17-May-2017</td>\n",
       "      <td>955.00</td>\n",
       "      <td>951.6</td>\n",
       "      <td>958.45</td>\n",
       "      <td>943.85</td>\n",
       "      <td>952.90</td>\n",
       "      <td>952.80</td>\n",
       "      <td>949.48</td>\n",
       "      <td>1457754</td>\n",
       "      <td>1.384110e+09</td>\n",
       "      <td>75429</td>\n",
       "      <td>792251</td>\n",
       "      <td>54.35</td>\n",
       "    </tr>\n",
       "    <tr>\n",
       "      <td>3</td>\n",
       "      <td>INFY</td>\n",
       "      <td>EQ</td>\n",
       "      <td>18-May-2017</td>\n",
       "      <td>952.80</td>\n",
       "      <td>943.0</td>\n",
       "      <td>973.90</td>\n",
       "      <td>942.85</td>\n",
       "      <td>960.25</td>\n",
       "      <td>961.75</td>\n",
       "      <td>962.61</td>\n",
       "      <td>4028924</td>\n",
       "      <td>3.878282e+09</td>\n",
       "      <td>120990</td>\n",
       "      <td>2309450</td>\n",
       "      <td>57.32</td>\n",
       "    </tr>\n",
       "    <tr>\n",
       "      <td>4</td>\n",
       "      <td>INFY</td>\n",
       "      <td>EQ</td>\n",
       "      <td>19-May-2017</td>\n",
       "      <td>961.75</td>\n",
       "      <td>961.5</td>\n",
       "      <td>962.70</td>\n",
       "      <td>947.85</td>\n",
       "      <td>957.40</td>\n",
       "      <td>957.95</td>\n",
       "      <td>954.18</td>\n",
       "      <td>2128698</td>\n",
       "      <td>2.031155e+09</td>\n",
       "      <td>88897</td>\n",
       "      <td>1457747</td>\n",
       "      <td>68.48</td>\n",
       "    </tr>\n",
       "  </tbody>\n",
       "</table>\n",
       "</div>"
      ],
      "text/plain": [
       "  Symbol Series         Date  Prev Close  Open Price  High Price  Low Price  \\\n",
       "0   INFY     EQ  15-May-2017      964.25       963.5      963.50     949.10   \n",
       "1   INFY     EQ  16-May-2017      951.55       953.1      960.15     946.95   \n",
       "2   INFY     EQ  17-May-2017      955.00       951.6      958.45     943.85   \n",
       "3   INFY     EQ  18-May-2017      952.80       943.0      973.90     942.85   \n",
       "4   INFY     EQ  19-May-2017      961.75       961.5      962.70     947.85   \n",
       "\n",
       "   Last Price  Close Price  Average Price  Total Traded Quantity  \\\n",
       "0      953.25       951.55         951.49                3648582   \n",
       "1      956.00       955.00         952.92                3065084   \n",
       "2      952.90       952.80         949.48                1457754   \n",
       "3      960.25       961.75         962.61                4028924   \n",
       "4      957.40       957.95         954.18                2128698   \n",
       "\n",
       "       Turnover  No. of Trades  Deliverable Qty  % Dly Qt to Traded Qty  \n",
       "0  3.471580e+09          75335          3052819                   83.67  \n",
       "1  2.920775e+09          71808          1858063                   60.62  \n",
       "2  1.384110e+09          75429           792251                   54.35  \n",
       "3  3.878282e+09         120990          2309450                   57.32  \n",
       "4  2.031155e+09          88897          1457747                   68.48  "
      ]
     },
     "execution_count": 4,
     "metadata": {},
     "output_type": "execute_result"
    }
   ],
   "source": [
    "#First five rows of dataset\n",
    "df.head()"
   ]
  },
  {
   "cell_type": "code",
   "execution_count": 5,
   "metadata": {},
   "outputs": [
    {
     "data": {
      "text/html": [
       "<div>\n",
       "<style scoped>\n",
       "    .dataframe tbody tr th:only-of-type {\n",
       "        vertical-align: middle;\n",
       "    }\n",
       "\n",
       "    .dataframe tbody tr th {\n",
       "        vertical-align: top;\n",
       "    }\n",
       "\n",
       "    .dataframe thead th {\n",
       "        text-align: right;\n",
       "    }\n",
       "</style>\n",
       "<table border=\"1\" class=\"dataframe\">\n",
       "  <thead>\n",
       "    <tr style=\"text-align: right;\">\n",
       "      <th></th>\n",
       "      <th>Symbol</th>\n",
       "      <th>Series</th>\n",
       "      <th>Date</th>\n",
       "      <th>Prev Close</th>\n",
       "      <th>Open Price</th>\n",
       "      <th>High Price</th>\n",
       "      <th>Low Price</th>\n",
       "      <th>Last Price</th>\n",
       "      <th>Close Price</th>\n",
       "      <th>Average Price</th>\n",
       "      <th>Total Traded Quantity</th>\n",
       "      <th>Turnover</th>\n",
       "      <th>No. of Trades</th>\n",
       "      <th>Deliverable Qty</th>\n",
       "      <th>% Dly Qt to Traded Qty</th>\n",
       "    </tr>\n",
       "  </thead>\n",
       "  <tbody>\n",
       "    <tr>\n",
       "      <td>491</td>\n",
       "      <td>INFY</td>\n",
       "      <td>EQ</td>\n",
       "      <td>07-May-2019</td>\n",
       "      <td>718.40</td>\n",
       "      <td>720.40</td>\n",
       "      <td>727.90</td>\n",
       "      <td>718.7</td>\n",
       "      <td>724.40</td>\n",
       "      <td>724.55</td>\n",
       "      <td>724.51</td>\n",
       "      <td>5747536</td>\n",
       "      <td>4.164127e+09</td>\n",
       "      <td>104342</td>\n",
       "      <td>3690425</td>\n",
       "      <td>64.21</td>\n",
       "    </tr>\n",
       "    <tr>\n",
       "      <td>492</td>\n",
       "      <td>INFY</td>\n",
       "      <td>EQ</td>\n",
       "      <td>08-May-2019</td>\n",
       "      <td>724.55</td>\n",
       "      <td>721.00</td>\n",
       "      <td>726.00</td>\n",
       "      <td>716.5</td>\n",
       "      <td>718.95</td>\n",
       "      <td>719.35</td>\n",
       "      <td>721.65</td>\n",
       "      <td>6247642</td>\n",
       "      <td>4.508603e+09</td>\n",
       "      <td>162077</td>\n",
       "      <td>3950857</td>\n",
       "      <td>63.24</td>\n",
       "    </tr>\n",
       "    <tr>\n",
       "      <td>493</td>\n",
       "      <td>INFY</td>\n",
       "      <td>EQ</td>\n",
       "      <td>09-May-2019</td>\n",
       "      <td>719.35</td>\n",
       "      <td>719.15</td>\n",
       "      <td>730.30</td>\n",
       "      <td>715.8</td>\n",
       "      <td>722.00</td>\n",
       "      <td>721.05</td>\n",
       "      <td>724.48</td>\n",
       "      <td>7396525</td>\n",
       "      <td>5.358635e+09</td>\n",
       "      <td>242225</td>\n",
       "      <td>4808832</td>\n",
       "      <td>65.01</td>\n",
       "    </tr>\n",
       "    <tr>\n",
       "      <td>494</td>\n",
       "      <td>INFY</td>\n",
       "      <td>EQ</td>\n",
       "      <td>10-May-2019</td>\n",
       "      <td>721.05</td>\n",
       "      <td>720.80</td>\n",
       "      <td>726.00</td>\n",
       "      <td>715.0</td>\n",
       "      <td>716.50</td>\n",
       "      <td>716.85</td>\n",
       "      <td>717.88</td>\n",
       "      <td>8352335</td>\n",
       "      <td>5.995942e+09</td>\n",
       "      <td>181229</td>\n",
       "      <td>5545377</td>\n",
       "      <td>66.39</td>\n",
       "    </tr>\n",
       "    <tr>\n",
       "      <td>495</td>\n",
       "      <td>INFY</td>\n",
       "      <td>EQ</td>\n",
       "      <td>13-May-2019</td>\n",
       "      <td>716.85</td>\n",
       "      <td>716.55</td>\n",
       "      <td>726.45</td>\n",
       "      <td>712.1</td>\n",
       "      <td>718.00</td>\n",
       "      <td>719.70</td>\n",
       "      <td>720.09</td>\n",
       "      <td>6808993</td>\n",
       "      <td>4.903098e+09</td>\n",
       "      <td>201194</td>\n",
       "      <td>4745909</td>\n",
       "      <td>69.70</td>\n",
       "    </tr>\n",
       "  </tbody>\n",
       "</table>\n",
       "</div>"
      ],
      "text/plain": [
       "    Symbol Series         Date  Prev Close  Open Price  High Price  Low Price  \\\n",
       "491   INFY     EQ  07-May-2019      718.40      720.40      727.90      718.7   \n",
       "492   INFY     EQ  08-May-2019      724.55      721.00      726.00      716.5   \n",
       "493   INFY     EQ  09-May-2019      719.35      719.15      730.30      715.8   \n",
       "494   INFY     EQ  10-May-2019      721.05      720.80      726.00      715.0   \n",
       "495   INFY     EQ  13-May-2019      716.85      716.55      726.45      712.1   \n",
       "\n",
       "     Last Price  Close Price  Average Price  Total Traded Quantity  \\\n",
       "491      724.40       724.55         724.51                5747536   \n",
       "492      718.95       719.35         721.65                6247642   \n",
       "493      722.00       721.05         724.48                7396525   \n",
       "494      716.50       716.85         717.88                8352335   \n",
       "495      718.00       719.70         720.09                6808993   \n",
       "\n",
       "         Turnover  No. of Trades  Deliverable Qty  % Dly Qt to Traded Qty  \n",
       "491  4.164127e+09         104342          3690425                   64.21  \n",
       "492  4.508603e+09         162077          3950857                   63.24  \n",
       "493  5.358635e+09         242225          4808832                   65.01  \n",
       "494  5.995942e+09         181229          5545377                   66.39  \n",
       "495  4.903098e+09         201194          4745909                   69.70  "
      ]
     },
     "execution_count": 5,
     "metadata": {},
     "output_type": "execute_result"
    }
   ],
   "source": [
    "#Last five rows of dataset\n",
    "df.tail()"
   ]
  },
  {
   "cell_type": "code",
   "execution_count": 6,
   "metadata": {},
   "outputs": [
    {
     "data": {
      "text/plain": [
       "(496, 15)"
      ]
     },
     "execution_count": 6,
     "metadata": {},
     "output_type": "execute_result"
    }
   ],
   "source": [
    "#Dimensions of our datset\n",
    "df.shape"
   ]
  },
  {
   "cell_type": "markdown",
   "metadata": {},
   "source": [
    "There are 496 rows and 15 columns in our dataset df"
   ]
  },
  {
   "cell_type": "code",
   "execution_count": 7,
   "metadata": {},
   "outputs": [
    {
     "name": "stdout",
     "output_type": "stream",
     "text": [
      "<class 'pandas.core.frame.DataFrame'>\n",
      "RangeIndex: 496 entries, 0 to 495\n",
      "Data columns (total 15 columns):\n",
      "Symbol                    496 non-null object\n",
      "Series                    496 non-null object\n",
      "Date                      496 non-null object\n",
      "Prev Close                496 non-null float64\n",
      "Open Price                496 non-null float64\n",
      "High Price                496 non-null float64\n",
      "Low Price                 496 non-null float64\n",
      "Last Price                496 non-null float64\n",
      "Close Price               496 non-null float64\n",
      "Average Price             496 non-null float64\n",
      "Total Traded Quantity     496 non-null int64\n",
      "Turnover                  496 non-null float64\n",
      "No. of Trades             496 non-null int64\n",
      "Deliverable Qty           496 non-null int64\n",
      "% Dly Qt to Traded Qty    496 non-null float64\n",
      "dtypes: float64(9), int64(3), object(3)\n",
      "memory usage: 52.4+ KB\n"
     ]
    }
   ],
   "source": [
    "#Looking at brief info of each column\n",
    "df.info()"
   ]
  },
  {
   "cell_type": "code",
   "execution_count": 8,
   "metadata": {},
   "outputs": [
    {
     "data": {
      "text/plain": [
       "Symbol                    0\n",
       "Series                    0\n",
       "Date                      0\n",
       "Prev Close                0\n",
       "Open Price                0\n",
       "High Price                0\n",
       "Low Price                 0\n",
       "Last Price                0\n",
       "Close Price               0\n",
       "Average Price             0\n",
       "Total Traded Quantity     0\n",
       "Turnover                  0\n",
       "No. of Trades             0\n",
       "Deliverable Qty           0\n",
       "% Dly Qt to Traded Qty    0\n",
       "dtype: int64"
      ]
     },
     "execution_count": 8,
     "metadata": {},
     "output_type": "execute_result"
    }
   ],
   "source": [
    "#Number of missing values in each column\n",
    "df.isnull().sum()"
   ]
  },
  {
   "cell_type": "markdown",
   "metadata": {},
   "source": [
    "There are no missing values in our dataset"
   ]
  },
  {
   "cell_type": "code",
   "execution_count": 9,
   "metadata": {},
   "outputs": [
    {
     "data": {
      "text/plain": [
       "Symbol                    496\n",
       "Series                    496\n",
       "Date                      496\n",
       "Prev Close                496\n",
       "Open Price                496\n",
       "High Price                496\n",
       "Low Price                 496\n",
       "Last Price                496\n",
       "Close Price               496\n",
       "Average Price             496\n",
       "Total Traded Quantity     496\n",
       "Turnover                  496\n",
       "No. of Trades             496\n",
       "Deliverable Qty           496\n",
       "% Dly Qt to Traded Qty    496\n",
       "dtype: int64"
      ]
     },
     "execution_count": 9,
     "metadata": {},
     "output_type": "execute_result"
    }
   ],
   "source": [
    "#Number of elements in each column\n",
    "df.count()"
   ]
  },
  {
   "cell_type": "code",
   "execution_count": 10,
   "metadata": {},
   "outputs": [],
   "source": [
    "#Acquiring all stocks of category EQ\n",
    "df = df[(df['Series'] == 'EQ')]"
   ]
  },
  {
   "cell_type": "code",
   "execution_count": 11,
   "metadata": {},
   "outputs": [
    {
     "data": {
      "text/plain": [
       "(494, 15)"
      ]
     },
     "execution_count": 11,
     "metadata": {},
     "output_type": "execute_result"
    }
   ],
   "source": [
    "#After processing dimensions of our dataset\n",
    "df.shape"
   ]
  },
  {
   "cell_type": "markdown",
   "metadata": {},
   "source": [
    "There are 494 stocks of category EQ"
   ]
  },
  {
   "cell_type": "code",
   "execution_count": 12,
   "metadata": {},
   "outputs": [
    {
     "data": {
      "text/plain": [
       "0"
      ]
     },
     "execution_count": 12,
     "metadata": {},
     "output_type": "execute_result"
    }
   ],
   "source": [
    "#Checking if any row is still left to be removed\n",
    "(df['Series'] != 'EQ').sum()"
   ]
  },
  {
   "cell_type": "code",
   "execution_count": 13,
   "metadata": {},
   "outputs": [
    {
     "data": {
      "text/html": [
       "<div>\n",
       "<style scoped>\n",
       "    .dataframe tbody tr th:only-of-type {\n",
       "        vertical-align: middle;\n",
       "    }\n",
       "\n",
       "    .dataframe tbody tr th {\n",
       "        vertical-align: top;\n",
       "    }\n",
       "\n",
       "    .dataframe thead th {\n",
       "        text-align: right;\n",
       "    }\n",
       "</style>\n",
       "<table border=\"1\" class=\"dataframe\">\n",
       "  <thead>\n",
       "    <tr style=\"text-align: right;\">\n",
       "      <th></th>\n",
       "      <th>Symbol</th>\n",
       "      <th>Series</th>\n",
       "      <th>Date</th>\n",
       "      <th>Prev Close</th>\n",
       "      <th>Open Price</th>\n",
       "      <th>High Price</th>\n",
       "      <th>Low Price</th>\n",
       "      <th>Last Price</th>\n",
       "      <th>Close Price</th>\n",
       "      <th>Average Price</th>\n",
       "      <th>Total Traded Quantity</th>\n",
       "      <th>Turnover</th>\n",
       "      <th>No. of Trades</th>\n",
       "      <th>Deliverable Qty</th>\n",
       "      <th>% Dly Qt to Traded Qty</th>\n",
       "    </tr>\n",
       "  </thead>\n",
       "  <tbody>\n",
       "    <tr>\n",
       "      <td>0</td>\n",
       "      <td>INFY</td>\n",
       "      <td>EQ</td>\n",
       "      <td>15-May-2017</td>\n",
       "      <td>964.25</td>\n",
       "      <td>963.50</td>\n",
       "      <td>963.50</td>\n",
       "      <td>949.10</td>\n",
       "      <td>953.25</td>\n",
       "      <td>951.55</td>\n",
       "      <td>951.49</td>\n",
       "      <td>3648582</td>\n",
       "      <td>3.471580e+09</td>\n",
       "      <td>75335</td>\n",
       "      <td>3052819</td>\n",
       "      <td>83.67</td>\n",
       "    </tr>\n",
       "    <tr>\n",
       "      <td>1</td>\n",
       "      <td>INFY</td>\n",
       "      <td>EQ</td>\n",
       "      <td>16-May-2017</td>\n",
       "      <td>951.55</td>\n",
       "      <td>953.10</td>\n",
       "      <td>960.15</td>\n",
       "      <td>946.95</td>\n",
       "      <td>956.00</td>\n",
       "      <td>955.00</td>\n",
       "      <td>952.92</td>\n",
       "      <td>3065084</td>\n",
       "      <td>2.920775e+09</td>\n",
       "      <td>71808</td>\n",
       "      <td>1858063</td>\n",
       "      <td>60.62</td>\n",
       "    </tr>\n",
       "    <tr>\n",
       "      <td>2</td>\n",
       "      <td>INFY</td>\n",
       "      <td>EQ</td>\n",
       "      <td>17-May-2017</td>\n",
       "      <td>955.00</td>\n",
       "      <td>951.60</td>\n",
       "      <td>958.45</td>\n",
       "      <td>943.85</td>\n",
       "      <td>952.90</td>\n",
       "      <td>952.80</td>\n",
       "      <td>949.48</td>\n",
       "      <td>1457754</td>\n",
       "      <td>1.384110e+09</td>\n",
       "      <td>75429</td>\n",
       "      <td>792251</td>\n",
       "      <td>54.35</td>\n",
       "    </tr>\n",
       "    <tr>\n",
       "      <td>3</td>\n",
       "      <td>INFY</td>\n",
       "      <td>EQ</td>\n",
       "      <td>18-May-2017</td>\n",
       "      <td>952.80</td>\n",
       "      <td>943.00</td>\n",
       "      <td>973.90</td>\n",
       "      <td>942.85</td>\n",
       "      <td>960.25</td>\n",
       "      <td>961.75</td>\n",
       "      <td>962.61</td>\n",
       "      <td>4028924</td>\n",
       "      <td>3.878282e+09</td>\n",
       "      <td>120990</td>\n",
       "      <td>2309450</td>\n",
       "      <td>57.32</td>\n",
       "    </tr>\n",
       "    <tr>\n",
       "      <td>4</td>\n",
       "      <td>INFY</td>\n",
       "      <td>EQ</td>\n",
       "      <td>19-May-2017</td>\n",
       "      <td>961.75</td>\n",
       "      <td>961.50</td>\n",
       "      <td>962.70</td>\n",
       "      <td>947.85</td>\n",
       "      <td>957.40</td>\n",
       "      <td>957.95</td>\n",
       "      <td>954.18</td>\n",
       "      <td>2128698</td>\n",
       "      <td>2.031155e+09</td>\n",
       "      <td>88897</td>\n",
       "      <td>1457747</td>\n",
       "      <td>68.48</td>\n",
       "    </tr>\n",
       "    <tr>\n",
       "      <td>...</td>\n",
       "      <td>...</td>\n",
       "      <td>...</td>\n",
       "      <td>...</td>\n",
       "      <td>...</td>\n",
       "      <td>...</td>\n",
       "      <td>...</td>\n",
       "      <td>...</td>\n",
       "      <td>...</td>\n",
       "      <td>...</td>\n",
       "      <td>...</td>\n",
       "      <td>...</td>\n",
       "      <td>...</td>\n",
       "      <td>...</td>\n",
       "      <td>...</td>\n",
       "      <td>...</td>\n",
       "    </tr>\n",
       "    <tr>\n",
       "      <td>489</td>\n",
       "      <td>INFY</td>\n",
       "      <td>EQ</td>\n",
       "      <td>07-May-2019</td>\n",
       "      <td>718.40</td>\n",
       "      <td>720.40</td>\n",
       "      <td>727.90</td>\n",
       "      <td>718.70</td>\n",
       "      <td>724.40</td>\n",
       "      <td>724.55</td>\n",
       "      <td>724.51</td>\n",
       "      <td>5747536</td>\n",
       "      <td>4.164127e+09</td>\n",
       "      <td>104342</td>\n",
       "      <td>3690425</td>\n",
       "      <td>64.21</td>\n",
       "    </tr>\n",
       "    <tr>\n",
       "      <td>490</td>\n",
       "      <td>INFY</td>\n",
       "      <td>EQ</td>\n",
       "      <td>08-May-2019</td>\n",
       "      <td>724.55</td>\n",
       "      <td>721.00</td>\n",
       "      <td>726.00</td>\n",
       "      <td>716.50</td>\n",
       "      <td>718.95</td>\n",
       "      <td>719.35</td>\n",
       "      <td>721.65</td>\n",
       "      <td>6247642</td>\n",
       "      <td>4.508603e+09</td>\n",
       "      <td>162077</td>\n",
       "      <td>3950857</td>\n",
       "      <td>63.24</td>\n",
       "    </tr>\n",
       "    <tr>\n",
       "      <td>491</td>\n",
       "      <td>INFY</td>\n",
       "      <td>EQ</td>\n",
       "      <td>09-May-2019</td>\n",
       "      <td>719.35</td>\n",
       "      <td>719.15</td>\n",
       "      <td>730.30</td>\n",
       "      <td>715.80</td>\n",
       "      <td>722.00</td>\n",
       "      <td>721.05</td>\n",
       "      <td>724.48</td>\n",
       "      <td>7396525</td>\n",
       "      <td>5.358635e+09</td>\n",
       "      <td>242225</td>\n",
       "      <td>4808832</td>\n",
       "      <td>65.01</td>\n",
       "    </tr>\n",
       "    <tr>\n",
       "      <td>492</td>\n",
       "      <td>INFY</td>\n",
       "      <td>EQ</td>\n",
       "      <td>10-May-2019</td>\n",
       "      <td>721.05</td>\n",
       "      <td>720.80</td>\n",
       "      <td>726.00</td>\n",
       "      <td>715.00</td>\n",
       "      <td>716.50</td>\n",
       "      <td>716.85</td>\n",
       "      <td>717.88</td>\n",
       "      <td>8352335</td>\n",
       "      <td>5.995942e+09</td>\n",
       "      <td>181229</td>\n",
       "      <td>5545377</td>\n",
       "      <td>66.39</td>\n",
       "    </tr>\n",
       "    <tr>\n",
       "      <td>493</td>\n",
       "      <td>INFY</td>\n",
       "      <td>EQ</td>\n",
       "      <td>13-May-2019</td>\n",
       "      <td>716.85</td>\n",
       "      <td>716.55</td>\n",
       "      <td>726.45</td>\n",
       "      <td>712.10</td>\n",
       "      <td>718.00</td>\n",
       "      <td>719.70</td>\n",
       "      <td>720.09</td>\n",
       "      <td>6808993</td>\n",
       "      <td>4.903098e+09</td>\n",
       "      <td>201194</td>\n",
       "      <td>4745909</td>\n",
       "      <td>69.70</td>\n",
       "    </tr>\n",
       "  </tbody>\n",
       "</table>\n",
       "<p>494 rows × 15 columns</p>\n",
       "</div>"
      ],
      "text/plain": [
       "    Symbol Series         Date  Prev Close  Open Price  High Price  Low Price  \\\n",
       "0     INFY     EQ  15-May-2017      964.25      963.50      963.50     949.10   \n",
       "1     INFY     EQ  16-May-2017      951.55      953.10      960.15     946.95   \n",
       "2     INFY     EQ  17-May-2017      955.00      951.60      958.45     943.85   \n",
       "3     INFY     EQ  18-May-2017      952.80      943.00      973.90     942.85   \n",
       "4     INFY     EQ  19-May-2017      961.75      961.50      962.70     947.85   \n",
       "..     ...    ...          ...         ...         ...         ...        ...   \n",
       "489   INFY     EQ  07-May-2019      718.40      720.40      727.90     718.70   \n",
       "490   INFY     EQ  08-May-2019      724.55      721.00      726.00     716.50   \n",
       "491   INFY     EQ  09-May-2019      719.35      719.15      730.30     715.80   \n",
       "492   INFY     EQ  10-May-2019      721.05      720.80      726.00     715.00   \n",
       "493   INFY     EQ  13-May-2019      716.85      716.55      726.45     712.10   \n",
       "\n",
       "     Last Price  Close Price  Average Price  Total Traded Quantity  \\\n",
       "0        953.25       951.55         951.49                3648582   \n",
       "1        956.00       955.00         952.92                3065084   \n",
       "2        952.90       952.80         949.48                1457754   \n",
       "3        960.25       961.75         962.61                4028924   \n",
       "4        957.40       957.95         954.18                2128698   \n",
       "..          ...          ...            ...                    ...   \n",
       "489      724.40       724.55         724.51                5747536   \n",
       "490      718.95       719.35         721.65                6247642   \n",
       "491      722.00       721.05         724.48                7396525   \n",
       "492      716.50       716.85         717.88                8352335   \n",
       "493      718.00       719.70         720.09                6808993   \n",
       "\n",
       "         Turnover  No. of Trades  Deliverable Qty  % Dly Qt to Traded Qty  \n",
       "0    3.471580e+09          75335          3052819                   83.67  \n",
       "1    2.920775e+09          71808          1858063                   60.62  \n",
       "2    1.384110e+09          75429           792251                   54.35  \n",
       "3    3.878282e+09         120990          2309450                   57.32  \n",
       "4    2.031155e+09          88897          1457747                   68.48  \n",
       "..            ...            ...              ...                     ...  \n",
       "489  4.164127e+09         104342          3690425                   64.21  \n",
       "490  4.508603e+09         162077          3950857                   63.24  \n",
       "491  5.358635e+09         242225          4808832                   65.01  \n",
       "492  5.995942e+09         181229          5545377                   66.39  \n",
       "493  4.903098e+09         201194          4745909                   69.70  \n",
       "\n",
       "[494 rows x 15 columns]"
      ]
     },
     "execution_count": 13,
     "metadata": {},
     "output_type": "execute_result"
    }
   ],
   "source": [
    "#Renumbering the index of our dataset\n",
    "df.reset_index(inplace = True)\n",
    "df = df.drop(['index'], axis = 1)\n",
    "df"
   ]
  },
  {
   "cell_type": "code",
   "execution_count": 14,
   "metadata": {},
   "outputs": [
    {
     "data": {
      "text/plain": [
       "Symbol                     object\n",
       "Series                     object\n",
       "Date                       object\n",
       "Prev Close                float64\n",
       "Open Price                float64\n",
       "High Price                float64\n",
       "Low Price                 float64\n",
       "Last Price                float64\n",
       "Close Price               float64\n",
       "Average Price             float64\n",
       "Total Traded Quantity       int64\n",
       "Turnover                  float64\n",
       "No. of Trades               int64\n",
       "Deliverable Qty             int64\n",
       "% Dly Qt to Traded Qty    float64\n",
       "dtype: object"
      ]
     },
     "execution_count": 14,
     "metadata": {},
     "output_type": "execute_result"
    }
   ],
   "source": [
    "#Datatype of each column\n",
    "df.dtypes"
   ]
  },
  {
   "cell_type": "markdown",
   "metadata": {},
   "source": [
    "## 1.2 "
   ]
  },
  {
   "cell_type": "markdown",
   "metadata": {},
   "source": [
    "Maximum price for last 90 days"
   ]
  },
  {
   "cell_type": "code",
   "execution_count": 15,
   "metadata": {},
   "outputs": [
    {
     "data": {
      "text/plain": [
       "767.25"
      ]
     },
     "execution_count": 15,
     "metadata": {},
     "output_type": "execute_result"
    }
   ],
   "source": [
    "df.iloc[-90:-1]['Close Price'].max()"
   ]
  },
  {
   "cell_type": "markdown",
   "metadata": {},
   "source": [
    "Minimum price for last 90 days"
   ]
  },
  {
   "cell_type": "code",
   "execution_count": 16,
   "metadata": {},
   "outputs": [
    {
     "data": {
      "text/plain": [
       "658.95"
      ]
     },
     "execution_count": 16,
     "metadata": {},
     "output_type": "execute_result"
    }
   ],
   "source": [
    "df.iloc[-90:-1]['Close Price'].min()"
   ]
  },
  {
   "cell_type": "markdown",
   "metadata": {},
   "source": [
    "Average price for last 90 days"
   ]
  },
  {
   "cell_type": "code",
   "execution_count": 17,
   "metadata": {},
   "outputs": [
    {
     "data": {
      "text/plain": [
       "728.702808988764"
      ]
     },
     "execution_count": 17,
     "metadata": {},
     "output_type": "execute_result"
    }
   ],
   "source": [
    "df.iloc[-90:-1]['Close Price'].mean()"
   ]
  },
  {
   "cell_type": "markdown",
   "metadata": {},
   "source": [
    "## 1.3"
   ]
  },
  {
   "cell_type": "code",
   "execution_count": 18,
   "metadata": {},
   "outputs": [],
   "source": [
    "#Converting datatype of Date column\n",
    "df['Date'] = df['Date'].astype('datetime64')"
   ]
  },
  {
   "cell_type": "code",
   "execution_count": 19,
   "metadata": {},
   "outputs": [
    {
     "data": {
      "text/plain": [
       "Symbol                            object\n",
       "Series                            object\n",
       "Date                      datetime64[ns]\n",
       "Prev Close                       float64\n",
       "Open Price                       float64\n",
       "High Price                       float64\n",
       "Low Price                        float64\n",
       "Last Price                       float64\n",
       "Close Price                      float64\n",
       "Average Price                    float64\n",
       "Total Traded Quantity              int64\n",
       "Turnover                         float64\n",
       "No. of Trades                      int64\n",
       "Deliverable Qty                    int64\n",
       "% Dly Qt to Traded Qty           float64\n",
       "dtype: object"
      ]
     },
     "execution_count": 19,
     "metadata": {},
     "output_type": "execute_result"
    }
   ],
   "source": [
    "#Looking if the datatype has got changed\n",
    "df.dtypes"
   ]
  },
  {
   "cell_type": "code",
   "execution_count": 20,
   "metadata": {},
   "outputs": [
    {
     "data": {
      "text/plain": [
       "Timedelta('728 days 00:00:00')"
      ]
     },
     "execution_count": 20,
     "metadata": {},
     "output_type": "execute_result"
    }
   ],
   "source": [
    "#Range of dates in Date column\n",
    "(df['Date'].max() - df['Date'].min())"
   ]
  },
  {
   "cell_type": "markdown",
   "metadata": {},
   "source": [
    "## 1.4 "
   ]
  },
  {
   "cell_type": "code",
   "execution_count": 21,
   "metadata": {},
   "outputs": [],
   "source": [
    "#Creating new column Month\n",
    "df['Month'] = df['Date'].dt.month"
   ]
  },
  {
   "cell_type": "code",
   "execution_count": 22,
   "metadata": {},
   "outputs": [],
   "source": [
    "#Creating new column Year\n",
    "df['Year'] = df['Date'].dt.year"
   ]
  },
  {
   "cell_type": "markdown",
   "metadata": {},
   "source": [
    "Creating new array VWAP containing volume weighted average price grouped by month"
   ]
  },
  {
   "cell_type": "code",
   "execution_count": 23,
   "metadata": {},
   "outputs": [],
   "source": [
    "#Creating new dataframe df_VWAP for further processing\n",
    "df_VWAP = df"
   ]
  },
  {
   "cell_type": "code",
   "execution_count": 24,
   "metadata": {},
   "outputs": [],
   "source": [
    "#Creating new column Price * Volume\n",
    "df_VWAP['Price * Volume'] = df['Close Price'] * df['Total Traded Quantity']"
   ]
  },
  {
   "cell_type": "code",
   "execution_count": 24,
   "metadata": {},
   "outputs": [
    {
     "data": {
      "text/html": [
       "<div>\n",
       "<style scoped>\n",
       "    .dataframe tbody tr th:only-of-type {\n",
       "        vertical-align: middle;\n",
       "    }\n",
       "\n",
       "    .dataframe tbody tr th {\n",
       "        vertical-align: top;\n",
       "    }\n",
       "\n",
       "    .dataframe thead th {\n",
       "        text-align: right;\n",
       "    }\n",
       "</style>\n",
       "<table border=\"1\" class=\"dataframe\">\n",
       "  <thead>\n",
       "    <tr style=\"text-align: right;\">\n",
       "      <th></th>\n",
       "      <th>Symbol</th>\n",
       "      <th>Series</th>\n",
       "      <th>Date</th>\n",
       "      <th>Prev Close</th>\n",
       "      <th>Open Price</th>\n",
       "      <th>High Price</th>\n",
       "      <th>Low Price</th>\n",
       "      <th>Last Price</th>\n",
       "      <th>Close Price</th>\n",
       "      <th>Average Price</th>\n",
       "      <th>Total Traded Quantity</th>\n",
       "      <th>Turnover</th>\n",
       "      <th>No. of Trades</th>\n",
       "      <th>Deliverable Qty</th>\n",
       "      <th>% Dly Qt to Traded Qty</th>\n",
       "      <th>Month</th>\n",
       "      <th>Year</th>\n",
       "      <th>Price * Volume</th>\n",
       "    </tr>\n",
       "  </thead>\n",
       "  <tbody>\n",
       "    <tr>\n",
       "      <td>0</td>\n",
       "      <td>INFY</td>\n",
       "      <td>EQ</td>\n",
       "      <td>2017-05-15</td>\n",
       "      <td>964.25</td>\n",
       "      <td>963.5</td>\n",
       "      <td>963.50</td>\n",
       "      <td>949.10</td>\n",
       "      <td>953.25</td>\n",
       "      <td>951.55</td>\n",
       "      <td>951.49</td>\n",
       "      <td>3648582</td>\n",
       "      <td>3.471580e+09</td>\n",
       "      <td>75335</td>\n",
       "      <td>3052819</td>\n",
       "      <td>83.67</td>\n",
       "      <td>5</td>\n",
       "      <td>2017</td>\n",
       "      <td>3.471808e+09</td>\n",
       "    </tr>\n",
       "    <tr>\n",
       "      <td>1</td>\n",
       "      <td>INFY</td>\n",
       "      <td>EQ</td>\n",
       "      <td>2017-05-16</td>\n",
       "      <td>951.55</td>\n",
       "      <td>953.1</td>\n",
       "      <td>960.15</td>\n",
       "      <td>946.95</td>\n",
       "      <td>956.00</td>\n",
       "      <td>955.00</td>\n",
       "      <td>952.92</td>\n",
       "      <td>3065084</td>\n",
       "      <td>2.920775e+09</td>\n",
       "      <td>71808</td>\n",
       "      <td>1858063</td>\n",
       "      <td>60.62</td>\n",
       "      <td>5</td>\n",
       "      <td>2017</td>\n",
       "      <td>2.927155e+09</td>\n",
       "    </tr>\n",
       "    <tr>\n",
       "      <td>2</td>\n",
       "      <td>INFY</td>\n",
       "      <td>EQ</td>\n",
       "      <td>2017-05-17</td>\n",
       "      <td>955.00</td>\n",
       "      <td>951.6</td>\n",
       "      <td>958.45</td>\n",
       "      <td>943.85</td>\n",
       "      <td>952.90</td>\n",
       "      <td>952.80</td>\n",
       "      <td>949.48</td>\n",
       "      <td>1457754</td>\n",
       "      <td>1.384110e+09</td>\n",
       "      <td>75429</td>\n",
       "      <td>792251</td>\n",
       "      <td>54.35</td>\n",
       "      <td>5</td>\n",
       "      <td>2017</td>\n",
       "      <td>1.388948e+09</td>\n",
       "    </tr>\n",
       "    <tr>\n",
       "      <td>3</td>\n",
       "      <td>INFY</td>\n",
       "      <td>EQ</td>\n",
       "      <td>2017-05-18</td>\n",
       "      <td>952.80</td>\n",
       "      <td>943.0</td>\n",
       "      <td>973.90</td>\n",
       "      <td>942.85</td>\n",
       "      <td>960.25</td>\n",
       "      <td>961.75</td>\n",
       "      <td>962.61</td>\n",
       "      <td>4028924</td>\n",
       "      <td>3.878282e+09</td>\n",
       "      <td>120990</td>\n",
       "      <td>2309450</td>\n",
       "      <td>57.32</td>\n",
       "      <td>5</td>\n",
       "      <td>2017</td>\n",
       "      <td>3.874818e+09</td>\n",
       "    </tr>\n",
       "    <tr>\n",
       "      <td>4</td>\n",
       "      <td>INFY</td>\n",
       "      <td>EQ</td>\n",
       "      <td>2017-05-19</td>\n",
       "      <td>961.75</td>\n",
       "      <td>961.5</td>\n",
       "      <td>962.70</td>\n",
       "      <td>947.85</td>\n",
       "      <td>957.40</td>\n",
       "      <td>957.95</td>\n",
       "      <td>954.18</td>\n",
       "      <td>2128698</td>\n",
       "      <td>2.031155e+09</td>\n",
       "      <td>88897</td>\n",
       "      <td>1457747</td>\n",
       "      <td>68.48</td>\n",
       "      <td>5</td>\n",
       "      <td>2017</td>\n",
       "      <td>2.039186e+09</td>\n",
       "    </tr>\n",
       "  </tbody>\n",
       "</table>\n",
       "</div>"
      ],
      "text/plain": [
       "  Symbol Series       Date  Prev Close  Open Price  High Price  Low Price  \\\n",
       "0   INFY     EQ 2017-05-15      964.25       963.5      963.50     949.10   \n",
       "1   INFY     EQ 2017-05-16      951.55       953.1      960.15     946.95   \n",
       "2   INFY     EQ 2017-05-17      955.00       951.6      958.45     943.85   \n",
       "3   INFY     EQ 2017-05-18      952.80       943.0      973.90     942.85   \n",
       "4   INFY     EQ 2017-05-19      961.75       961.5      962.70     947.85   \n",
       "\n",
       "   Last Price  Close Price  Average Price  Total Traded Quantity  \\\n",
       "0      953.25       951.55         951.49                3648582   \n",
       "1      956.00       955.00         952.92                3065084   \n",
       "2      952.90       952.80         949.48                1457754   \n",
       "3      960.25       961.75         962.61                4028924   \n",
       "4      957.40       957.95         954.18                2128698   \n",
       "\n",
       "       Turnover  No. of Trades  Deliverable Qty  % Dly Qt to Traded Qty  \\\n",
       "0  3.471580e+09          75335          3052819                   83.67   \n",
       "1  2.920775e+09          71808          1858063                   60.62   \n",
       "2  1.384110e+09          75429           792251                   54.35   \n",
       "3  3.878282e+09         120990          2309450                   57.32   \n",
       "4  2.031155e+09          88897          1457747                   68.48   \n",
       "\n",
       "   Month  Year  Price * Volume  \n",
       "0      5  2017    3.471808e+09  \n",
       "1      5  2017    2.927155e+09  \n",
       "2      5  2017    1.388948e+09  \n",
       "3      5  2017    3.874818e+09  \n",
       "4      5  2017    2.039186e+09  "
      ]
     },
     "execution_count": 24,
     "metadata": {},
     "output_type": "execute_result"
    }
   ],
   "source": [
    "#First five rows of our dataframe\n",
    "df_VWAP.head()"
   ]
  },
  {
   "cell_type": "code",
   "execution_count": 25,
   "metadata": {},
   "outputs": [],
   "source": [
    "#Grouping of our datframe on Month and year and calculating sum of Total Traded Quantity and Price * Volume Column\n",
    "df_VWAP_group = df_VWAP.groupby(['Month', 'Year'])[['Total Traded Quantity', 'Price * Volume']].sum()"
   ]
  },
  {
   "cell_type": "markdown",
   "metadata": {},
   "source": [
    "VWAP(Volume Weighted Average Price) = sum(price * volume) / sum(volume)"
   ]
  },
  {
   "cell_type": "code",
   "execution_count": 26,
   "metadata": {},
   "outputs": [],
   "source": [
    "#Calculating VWAP\n",
    "VWAP = df_VWAP_group['Price * Volume'] / df_VWAP_group['Total Traded Quantity']"
   ]
  },
  {
   "cell_type": "code",
   "execution_count": 27,
   "metadata": {},
   "outputs": [],
   "source": [
    "#Flattening up the array\n",
    "VWAP = VWAP.reset_index()"
   ]
  },
  {
   "cell_type": "code",
   "execution_count": 28,
   "metadata": {},
   "outputs": [
    {
     "data": {
      "text/html": [
       "<div>\n",
       "<style scoped>\n",
       "    .dataframe tbody tr th:only-of-type {\n",
       "        vertical-align: middle;\n",
       "    }\n",
       "\n",
       "    .dataframe tbody tr th {\n",
       "        vertical-align: top;\n",
       "    }\n",
       "\n",
       "    .dataframe thead th {\n",
       "        text-align: right;\n",
       "    }\n",
       "</style>\n",
       "<table border=\"1\" class=\"dataframe\">\n",
       "  <thead>\n",
       "    <tr style=\"text-align: right;\">\n",
       "      <th></th>\n",
       "      <th>Month</th>\n",
       "      <th>Year</th>\n",
       "      <th>VWAP</th>\n",
       "    </tr>\n",
       "  </thead>\n",
       "  <tbody>\n",
       "    <tr>\n",
       "      <td>8</td>\n",
       "      <td>5</td>\n",
       "      <td>2017</td>\n",
       "      <td>969.171663</td>\n",
       "    </tr>\n",
       "    <tr>\n",
       "      <td>11</td>\n",
       "      <td>6</td>\n",
       "      <td>2017</td>\n",
       "      <td>948.202546</td>\n",
       "    </tr>\n",
       "    <tr>\n",
       "      <td>13</td>\n",
       "      <td>7</td>\n",
       "      <td>2017</td>\n",
       "      <td>979.204067</td>\n",
       "    </tr>\n",
       "    <tr>\n",
       "      <td>15</td>\n",
       "      <td>8</td>\n",
       "      <td>2017</td>\n",
       "      <td>919.396317</td>\n",
       "    </tr>\n",
       "    <tr>\n",
       "      <td>17</td>\n",
       "      <td>9</td>\n",
       "      <td>2017</td>\n",
       "      <td>897.396520</td>\n",
       "    </tr>\n",
       "    <tr>\n",
       "      <td>19</td>\n",
       "      <td>10</td>\n",
       "      <td>2017</td>\n",
       "      <td>931.858118</td>\n",
       "    </tr>\n",
       "    <tr>\n",
       "      <td>21</td>\n",
       "      <td>11</td>\n",
       "      <td>2017</td>\n",
       "      <td>969.989288</td>\n",
       "    </tr>\n",
       "    <tr>\n",
       "      <td>23</td>\n",
       "      <td>12</td>\n",
       "      <td>2017</td>\n",
       "      <td>1011.833961</td>\n",
       "    </tr>\n",
       "    <tr>\n",
       "      <td>0</td>\n",
       "      <td>1</td>\n",
       "      <td>2018</td>\n",
       "      <td>1114.434642</td>\n",
       "    </tr>\n",
       "    <tr>\n",
       "      <td>2</td>\n",
       "      <td>2</td>\n",
       "      <td>2018</td>\n",
       "      <td>1137.523710</td>\n",
       "    </tr>\n",
       "    <tr>\n",
       "      <td>4</td>\n",
       "      <td>3</td>\n",
       "      <td>2018</td>\n",
       "      <td>1162.184207</td>\n",
       "    </tr>\n",
       "    <tr>\n",
       "      <td>6</td>\n",
       "      <td>4</td>\n",
       "      <td>2018</td>\n",
       "      <td>1153.567462</td>\n",
       "    </tr>\n",
       "    <tr>\n",
       "      <td>9</td>\n",
       "      <td>5</td>\n",
       "      <td>2018</td>\n",
       "      <td>1197.926656</td>\n",
       "    </tr>\n",
       "    <tr>\n",
       "      <td>12</td>\n",
       "      <td>6</td>\n",
       "      <td>2018</td>\n",
       "      <td>1263.282758</td>\n",
       "    </tr>\n",
       "    <tr>\n",
       "      <td>14</td>\n",
       "      <td>7</td>\n",
       "      <td>2018</td>\n",
       "      <td>1329.247518</td>\n",
       "    </tr>\n",
       "    <tr>\n",
       "      <td>16</td>\n",
       "      <td>8</td>\n",
       "      <td>2018</td>\n",
       "      <td>1396.527179</td>\n",
       "    </tr>\n",
       "    <tr>\n",
       "      <td>18</td>\n",
       "      <td>9</td>\n",
       "      <td>2018</td>\n",
       "      <td>752.570451</td>\n",
       "    </tr>\n",
       "    <tr>\n",
       "      <td>20</td>\n",
       "      <td>10</td>\n",
       "      <td>2018</td>\n",
       "      <td>688.817051</td>\n",
       "    </tr>\n",
       "    <tr>\n",
       "      <td>22</td>\n",
       "      <td>11</td>\n",
       "      <td>2018</td>\n",
       "      <td>650.652805</td>\n",
       "    </tr>\n",
       "    <tr>\n",
       "      <td>24</td>\n",
       "      <td>12</td>\n",
       "      <td>2018</td>\n",
       "      <td>670.195881</td>\n",
       "    </tr>\n",
       "    <tr>\n",
       "      <td>1</td>\n",
       "      <td>1</td>\n",
       "      <td>2019</td>\n",
       "      <td>708.054850</td>\n",
       "    </tr>\n",
       "    <tr>\n",
       "      <td>3</td>\n",
       "      <td>2</td>\n",
       "      <td>2019</td>\n",
       "      <td>746.052269</td>\n",
       "    </tr>\n",
       "    <tr>\n",
       "      <td>5</td>\n",
       "      <td>3</td>\n",
       "      <td>2019</td>\n",
       "      <td>724.365636</td>\n",
       "    </tr>\n",
       "    <tr>\n",
       "      <td>7</td>\n",
       "      <td>4</td>\n",
       "      <td>2019</td>\n",
       "      <td>739.025955</td>\n",
       "    </tr>\n",
       "    <tr>\n",
       "      <td>10</td>\n",
       "      <td>5</td>\n",
       "      <td>2019</td>\n",
       "      <td>721.403986</td>\n",
       "    </tr>\n",
       "  </tbody>\n",
       "</table>\n",
       "</div>"
      ],
      "text/plain": [
       "    Month  Year         VWAP\n",
       "8       5  2017   969.171663\n",
       "11      6  2017   948.202546\n",
       "13      7  2017   979.204067\n",
       "15      8  2017   919.396317\n",
       "17      9  2017   897.396520\n",
       "19     10  2017   931.858118\n",
       "21     11  2017   969.989288\n",
       "23     12  2017  1011.833961\n",
       "0       1  2018  1114.434642\n",
       "2       2  2018  1137.523710\n",
       "4       3  2018  1162.184207\n",
       "6       4  2018  1153.567462\n",
       "9       5  2018  1197.926656\n",
       "12      6  2018  1263.282758\n",
       "14      7  2018  1329.247518\n",
       "16      8  2018  1396.527179\n",
       "18      9  2018   752.570451\n",
       "20     10  2018   688.817051\n",
       "22     11  2018   650.652805\n",
       "24     12  2018   670.195881\n",
       "1       1  2019   708.054850\n",
       "3       2  2019   746.052269\n",
       "5       3  2019   724.365636\n",
       "7       4  2019   739.025955\n",
       "10      5  2019   721.403986"
      ]
     },
     "execution_count": 28,
     "metadata": {},
     "output_type": "execute_result"
    }
   ],
   "source": [
    "VWAP.rename(columns = {0:'VWAP'}, inplace = True)\n",
    "VWAP.sort_values(by = ['Year', 'Month'], inplace = True)\n",
    "VWAP"
   ]
  },
  {
   "cell_type": "markdown",
   "metadata": {},
   "source": [
    "## 1.5 "
   ]
  },
  {
   "cell_type": "markdown",
   "metadata": {},
   "source": [
    "Function to calculate average price for last N days"
   ]
  },
  {
   "cell_type": "code",
   "execution_count": 29,
   "metadata": {},
   "outputs": [],
   "source": [
    "def average_price(df, N):\n",
    "    return df.iloc[-N:-1]['Close Price'].mean()"
   ]
  },
  {
   "cell_type": "markdown",
   "metadata": {},
   "source": [
    "Function to calculate profit/loss percentage for last N days"
   ]
  },
  {
   "cell_type": "code",
   "execution_count": 30,
   "metadata": {},
   "outputs": [],
   "source": [
    "def profit_loss_perc(df, N):\n",
    "    p = (df.iloc[-1]['Close Price'] - df.iloc[-N]['Close Price']) / df.iloc[-N]['Close Price']\n",
    "    p = p * 100\n",
    "    return p"
   ]
  },
  {
   "cell_type": "code",
   "execution_count": 31,
   "metadata": {},
   "outputs": [
    {
     "name": "stdout",
     "output_type": "stream",
     "text": [
      "Average Price for last 1 week\n",
      "720.63\n",
      "Profit/Loss percentage for last 1 week\n",
      "-0.54\n",
      "Average Price for last 2 weeks\n",
      "727.55\n",
      "Profit/Loss percentage for last 2 weeks\n",
      "-0.19\n",
      "Average Price for last 1 month\n",
      "737.39\n",
      "Profit/Loss percentage for last 1 month\n",
      "-1.37\n",
      "Average Price for last 3 months\n",
      "728.70\n",
      "Profit/Loss percentage for last 3 months\n",
      "9.22\n",
      "Average Price for last 6 months\n",
      "758.91\n",
      "Profit/Loss percentage for last 6 months\n",
      "-48.90\n",
      "Average Price for last 1 year\n",
      "967.56\n",
      "Profit/Loss percentage for last 1 year\n",
      "-25.88\n"
     ]
    }
   ],
   "source": [
    "#Calculating Average Prices and Profit/ Loss percentages\n",
    "\n",
    "#Last 1 week\n",
    "print(\"Average Price for last 1 week\")\n",
    "print(\"{:.2f}\".format(average_price(df, 7)))\n",
    "print(\"Profit/Loss percentage for last 1 week\")\n",
    "print(\"{:.2f}\".format(profit_loss_perc(df, 7)))\n",
    "\n",
    "#Last 2 weeks\n",
    "print(\"Average Price for last 2 weeks\")\n",
    "print(\"{:.2f}\".format(average_price(df, 14)))\n",
    "print(\"Profit/Loss percentage for last 2 weeks\")\n",
    "print(\"{:.2f}\".format(profit_loss_perc(df, 14)))\n",
    "\n",
    "#Last 1 month\n",
    "print(\"Average Price for last 1 month\")\n",
    "print(\"{:.2f}\".format(average_price(df, 30)))\n",
    "print(\"Profit/Loss percentage for last 1 month\")\n",
    "print(\"{:.2f}\".format(profit_loss_perc(df, 30)))\n",
    "\n",
    "#Last 3 months\n",
    "print(\"Average Price for last 3 months\")\n",
    "print(\"{:.2f}\".format(average_price(df, 90)))\n",
    "print(\"Profit/Loss percentage for last 3 months\")\n",
    "print(\"{:.2f}\".format(profit_loss_perc(df, 90)))\n",
    "\n",
    "#Last 6 months\n",
    "print(\"Average Price for last 6 months\")\n",
    "print(\"{:.2f}\".format(average_price(df, 180)))\n",
    "print(\"Profit/Loss percentage for last 6 months\")\n",
    "print(\"{:.2f}\".format(profit_loss_perc(df, 180)))\n",
    "\n",
    "#Last 1 year\n",
    "print(\"Average Price for last 1 year\")\n",
    "print(\"{:.2f}\".format(average_price(df, 365)))\n",
    "print(\"Profit/Loss percentage for last 1 year\")\n",
    "print(\"{:.2f}\".format(profit_loss_perc(df, 365)))"
   ]
  },
  {
   "cell_type": "markdown",
   "metadata": {},
   "source": [
    "## 1.6 "
   ]
  },
  {
   "cell_type": "code",
   "execution_count": 32,
   "metadata": {},
   "outputs": [
    {
     "data": {
      "text/plain": [
       "0         NaN\n",
       "1    0.362566\n",
       "2   -0.230366\n",
       "3    0.939337\n",
       "4   -0.395113\n",
       "Name: Day_Perc_Change, dtype: float64"
      ]
     },
     "execution_count": 32,
     "metadata": {},
     "output_type": "execute_result"
    }
   ],
   "source": [
    "#Creating new column Day_Perc_Change\n",
    "df['Day_Perc_Change'] = df['Close Price'].pct_change() * 100\n",
    "df['Day_Perc_Change'].head()"
   ]
  },
  {
   "cell_type": "code",
   "execution_count": 33,
   "metadata": {},
   "outputs": [],
   "source": [
    "#Replacing missing values with 0\n",
    "df['Day_Perc_Change'].replace(np.nan, 0, inplace = True)"
   ]
  },
  {
   "cell_type": "code",
   "execution_count": 34,
   "metadata": {},
   "outputs": [
    {
     "data": {
      "text/plain": [
       "0    0.000000\n",
       "1    0.362566\n",
       "2   -0.230366\n",
       "3    0.939337\n",
       "4   -0.395113\n",
       "Name: Day_Perc_Change, dtype: float64"
      ]
     },
     "execution_count": 34,
     "metadata": {},
     "output_type": "execute_result"
    }
   ],
   "source": [
    "#First five values\n",
    "df['Day_Perc_Change'].head()"
   ]
  },
  {
   "cell_type": "markdown",
   "metadata": {},
   "source": [
    "## 1.7"
   ]
  },
  {
   "cell_type": "markdown",
   "metadata": {},
   "source": [
    "Function trend to apply on 'Day_Perc_Change' column"
   ]
  },
  {
   "cell_type": "code",
   "execution_count": 35,
   "metadata": {},
   "outputs": [],
   "source": [
    "def trend(x):\n",
    "    if x >= -0.5 and x <= 0.5 :\n",
    "        a = 'Slight or No change'\n",
    "    elif x >= 0.5 and x <= 1:\n",
    "        a = 'Slight positive'\n",
    "    elif x >= -1 and x <= -0.5:\n",
    "        a = 'Slight negative'\n",
    "    elif x >= 1 and x <= 3:\n",
    "        a = 'Positive'\n",
    "    elif x >= -3 and x <= -1:\n",
    "        a = 'Negative'\n",
    "    elif x >= 3 and x <= 7:\n",
    "        a = 'Among top gainers'\n",
    "    elif x >= -7 and x <= -3:\n",
    "        a = 'Among top losers'\n",
    "    elif x > 7:\n",
    "        a = 'Bull run'\n",
    "    elif x < -7:\n",
    "        a = 'Bear drop'\n",
    "        \n",
    "    return a"
   ]
  },
  {
   "cell_type": "code",
   "execution_count": 36,
   "metadata": {},
   "outputs": [],
   "source": [
    "#Creating new column Trend\n",
    "df['Trend'] = df['Day_Perc_Change'].apply(trend)"
   ]
  },
  {
   "cell_type": "code",
   "execution_count": 37,
   "metadata": {},
   "outputs": [
    {
     "data": {
      "text/html": [
       "<div>\n",
       "<style scoped>\n",
       "    .dataframe tbody tr th:only-of-type {\n",
       "        vertical-align: middle;\n",
       "    }\n",
       "\n",
       "    .dataframe tbody tr th {\n",
       "        vertical-align: top;\n",
       "    }\n",
       "\n",
       "    .dataframe thead th {\n",
       "        text-align: right;\n",
       "    }\n",
       "</style>\n",
       "<table border=\"1\" class=\"dataframe\">\n",
       "  <thead>\n",
       "    <tr style=\"text-align: right;\">\n",
       "      <th></th>\n",
       "      <th>Symbol</th>\n",
       "      <th>Series</th>\n",
       "      <th>Date</th>\n",
       "      <th>Prev Close</th>\n",
       "      <th>Open Price</th>\n",
       "      <th>High Price</th>\n",
       "      <th>Low Price</th>\n",
       "      <th>Last Price</th>\n",
       "      <th>Close Price</th>\n",
       "      <th>Average Price</th>\n",
       "      <th>Total Traded Quantity</th>\n",
       "      <th>Turnover</th>\n",
       "      <th>No. of Trades</th>\n",
       "      <th>Deliverable Qty</th>\n",
       "      <th>% Dly Qt to Traded Qty</th>\n",
       "      <th>Month</th>\n",
       "      <th>Year</th>\n",
       "      <th>Price * Volume</th>\n",
       "      <th>Day_Perc_Change</th>\n",
       "      <th>Trend</th>\n",
       "    </tr>\n",
       "  </thead>\n",
       "  <tbody>\n",
       "    <tr>\n",
       "      <td>0</td>\n",
       "      <td>INFY</td>\n",
       "      <td>EQ</td>\n",
       "      <td>2017-05-15</td>\n",
       "      <td>964.25</td>\n",
       "      <td>963.5</td>\n",
       "      <td>963.50</td>\n",
       "      <td>949.10</td>\n",
       "      <td>953.25</td>\n",
       "      <td>951.55</td>\n",
       "      <td>951.49</td>\n",
       "      <td>3648582</td>\n",
       "      <td>3.471580e+09</td>\n",
       "      <td>75335</td>\n",
       "      <td>3052819</td>\n",
       "      <td>83.67</td>\n",
       "      <td>5</td>\n",
       "      <td>2017</td>\n",
       "      <td>3.471808e+09</td>\n",
       "      <td>0.000000</td>\n",
       "      <td>Slight or No change</td>\n",
       "    </tr>\n",
       "    <tr>\n",
       "      <td>1</td>\n",
       "      <td>INFY</td>\n",
       "      <td>EQ</td>\n",
       "      <td>2017-05-16</td>\n",
       "      <td>951.55</td>\n",
       "      <td>953.1</td>\n",
       "      <td>960.15</td>\n",
       "      <td>946.95</td>\n",
       "      <td>956.00</td>\n",
       "      <td>955.00</td>\n",
       "      <td>952.92</td>\n",
       "      <td>3065084</td>\n",
       "      <td>2.920775e+09</td>\n",
       "      <td>71808</td>\n",
       "      <td>1858063</td>\n",
       "      <td>60.62</td>\n",
       "      <td>5</td>\n",
       "      <td>2017</td>\n",
       "      <td>2.927155e+09</td>\n",
       "      <td>0.362566</td>\n",
       "      <td>Slight or No change</td>\n",
       "    </tr>\n",
       "    <tr>\n",
       "      <td>2</td>\n",
       "      <td>INFY</td>\n",
       "      <td>EQ</td>\n",
       "      <td>2017-05-17</td>\n",
       "      <td>955.00</td>\n",
       "      <td>951.6</td>\n",
       "      <td>958.45</td>\n",
       "      <td>943.85</td>\n",
       "      <td>952.90</td>\n",
       "      <td>952.80</td>\n",
       "      <td>949.48</td>\n",
       "      <td>1457754</td>\n",
       "      <td>1.384110e+09</td>\n",
       "      <td>75429</td>\n",
       "      <td>792251</td>\n",
       "      <td>54.35</td>\n",
       "      <td>5</td>\n",
       "      <td>2017</td>\n",
       "      <td>1.388948e+09</td>\n",
       "      <td>-0.230366</td>\n",
       "      <td>Slight or No change</td>\n",
       "    </tr>\n",
       "    <tr>\n",
       "      <td>3</td>\n",
       "      <td>INFY</td>\n",
       "      <td>EQ</td>\n",
       "      <td>2017-05-18</td>\n",
       "      <td>952.80</td>\n",
       "      <td>943.0</td>\n",
       "      <td>973.90</td>\n",
       "      <td>942.85</td>\n",
       "      <td>960.25</td>\n",
       "      <td>961.75</td>\n",
       "      <td>962.61</td>\n",
       "      <td>4028924</td>\n",
       "      <td>3.878282e+09</td>\n",
       "      <td>120990</td>\n",
       "      <td>2309450</td>\n",
       "      <td>57.32</td>\n",
       "      <td>5</td>\n",
       "      <td>2017</td>\n",
       "      <td>3.874818e+09</td>\n",
       "      <td>0.939337</td>\n",
       "      <td>Slight positive</td>\n",
       "    </tr>\n",
       "    <tr>\n",
       "      <td>4</td>\n",
       "      <td>INFY</td>\n",
       "      <td>EQ</td>\n",
       "      <td>2017-05-19</td>\n",
       "      <td>961.75</td>\n",
       "      <td>961.5</td>\n",
       "      <td>962.70</td>\n",
       "      <td>947.85</td>\n",
       "      <td>957.40</td>\n",
       "      <td>957.95</td>\n",
       "      <td>954.18</td>\n",
       "      <td>2128698</td>\n",
       "      <td>2.031155e+09</td>\n",
       "      <td>88897</td>\n",
       "      <td>1457747</td>\n",
       "      <td>68.48</td>\n",
       "      <td>5</td>\n",
       "      <td>2017</td>\n",
       "      <td>2.039186e+09</td>\n",
       "      <td>-0.395113</td>\n",
       "      <td>Slight or No change</td>\n",
       "    </tr>\n",
       "  </tbody>\n",
       "</table>\n",
       "</div>"
      ],
      "text/plain": [
       "  Symbol Series       Date  Prev Close  Open Price  High Price  Low Price  \\\n",
       "0   INFY     EQ 2017-05-15      964.25       963.5      963.50     949.10   \n",
       "1   INFY     EQ 2017-05-16      951.55       953.1      960.15     946.95   \n",
       "2   INFY     EQ 2017-05-17      955.00       951.6      958.45     943.85   \n",
       "3   INFY     EQ 2017-05-18      952.80       943.0      973.90     942.85   \n",
       "4   INFY     EQ 2017-05-19      961.75       961.5      962.70     947.85   \n",
       "\n",
       "   Last Price  Close Price  Average Price  Total Traded Quantity  \\\n",
       "0      953.25       951.55         951.49                3648582   \n",
       "1      956.00       955.00         952.92                3065084   \n",
       "2      952.90       952.80         949.48                1457754   \n",
       "3      960.25       961.75         962.61                4028924   \n",
       "4      957.40       957.95         954.18                2128698   \n",
       "\n",
       "       Turnover  No. of Trades  Deliverable Qty  % Dly Qt to Traded Qty  \\\n",
       "0  3.471580e+09          75335          3052819                   83.67   \n",
       "1  2.920775e+09          71808          1858063                   60.62   \n",
       "2  1.384110e+09          75429           792251                   54.35   \n",
       "3  3.878282e+09         120990          2309450                   57.32   \n",
       "4  2.031155e+09          88897          1457747                   68.48   \n",
       "\n",
       "   Month  Year  Price * Volume  Day_Perc_Change                Trend  \n",
       "0      5  2017    3.471808e+09         0.000000  Slight or No change  \n",
       "1      5  2017    2.927155e+09         0.362566  Slight or No change  \n",
       "2      5  2017    1.388948e+09        -0.230366  Slight or No change  \n",
       "3      5  2017    3.874818e+09         0.939337      Slight positive  \n",
       "4      5  2017    2.039186e+09        -0.395113  Slight or No change  "
      ]
     },
     "execution_count": 37,
     "metadata": {},
     "output_type": "execute_result"
    }
   ],
   "source": [
    "#First five rows of our dataframe\n",
    "df.head()"
   ]
  },
  {
   "cell_type": "markdown",
   "metadata": {},
   "source": [
    "## 1.8 "
   ]
  },
  {
   "cell_type": "code",
   "execution_count": 38,
   "metadata": {},
   "outputs": [],
   "source": [
    "#Grouping dataframe on Trend\n",
    "df_trend_group = df.groupby('Trend')[['Total Traded Quantity']]"
   ]
  },
  {
   "cell_type": "code",
   "execution_count": 39,
   "metadata": {},
   "outputs": [
    {
     "data": {
      "text/html": [
       "<div>\n",
       "<style scoped>\n",
       "    .dataframe tbody tr th:only-of-type {\n",
       "        vertical-align: middle;\n",
       "    }\n",
       "\n",
       "    .dataframe tbody tr th {\n",
       "        vertical-align: top;\n",
       "    }\n",
       "\n",
       "    .dataframe thead th {\n",
       "        text-align: right;\n",
       "    }\n",
       "</style>\n",
       "<table border=\"1\" class=\"dataframe\">\n",
       "  <thead>\n",
       "    <tr style=\"text-align: right;\">\n",
       "      <th></th>\n",
       "      <th>Total Traded Quantity</th>\n",
       "    </tr>\n",
       "    <tr>\n",
       "      <th>Trend</th>\n",
       "      <th></th>\n",
       "    </tr>\n",
       "  </thead>\n",
       "  <tbody>\n",
       "    <tr>\n",
       "      <td>Among top gainers</td>\n",
       "      <td>1.259063e+07</td>\n",
       "    </tr>\n",
       "    <tr>\n",
       "      <td>Among top losers</td>\n",
       "      <td>1.463854e+07</td>\n",
       "    </tr>\n",
       "    <tr>\n",
       "      <td>Bear drop</td>\n",
       "      <td>4.878630e+07</td>\n",
       "    </tr>\n",
       "    <tr>\n",
       "      <td>Negative</td>\n",
       "      <td>5.634151e+06</td>\n",
       "    </tr>\n",
       "    <tr>\n",
       "      <td>Positive</td>\n",
       "      <td>6.655530e+06</td>\n",
       "    </tr>\n",
       "    <tr>\n",
       "      <td>Slight negative</td>\n",
       "      <td>5.454672e+06</td>\n",
       "    </tr>\n",
       "    <tr>\n",
       "      <td>Slight or No change</td>\n",
       "      <td>4.647983e+06</td>\n",
       "    </tr>\n",
       "    <tr>\n",
       "      <td>Slight positive</td>\n",
       "      <td>5.848807e+06</td>\n",
       "    </tr>\n",
       "  </tbody>\n",
       "</table>\n",
       "</div>"
      ],
      "text/plain": [
       "                     Total Traded Quantity\n",
       "Trend                                     \n",
       "Among top gainers             1.259063e+07\n",
       "Among top losers              1.463854e+07\n",
       "Bear drop                     4.878630e+07\n",
       "Negative                      5.634151e+06\n",
       "Positive                      6.655530e+06\n",
       "Slight negative               5.454672e+06\n",
       "Slight or No change           4.647983e+06\n",
       "Slight positive               5.848807e+06"
      ]
     },
     "execution_count": 39,
     "metadata": {},
     "output_type": "execute_result"
    }
   ],
   "source": [
    "#Average Total Traded Quantity\n",
    "df_trend_group.mean()"
   ]
  },
  {
   "cell_type": "code",
   "execution_count": 40,
   "metadata": {},
   "outputs": [
    {
     "data": {
      "text/html": [
       "<div>\n",
       "<style scoped>\n",
       "    .dataframe tbody tr th:only-of-type {\n",
       "        vertical-align: middle;\n",
       "    }\n",
       "\n",
       "    .dataframe tbody tr th {\n",
       "        vertical-align: top;\n",
       "    }\n",
       "\n",
       "    .dataframe thead th {\n",
       "        text-align: right;\n",
       "    }\n",
       "</style>\n",
       "<table border=\"1\" class=\"dataframe\">\n",
       "  <thead>\n",
       "    <tr style=\"text-align: right;\">\n",
       "      <th></th>\n",
       "      <th>Total Traded Quantity</th>\n",
       "    </tr>\n",
       "    <tr>\n",
       "      <th>Trend</th>\n",
       "      <th></th>\n",
       "    </tr>\n",
       "  </thead>\n",
       "  <tbody>\n",
       "    <tr>\n",
       "      <td>Among top gainers</td>\n",
       "      <td>12042170.5</td>\n",
       "    </tr>\n",
       "    <tr>\n",
       "      <td>Among top losers</td>\n",
       "      <td>10985897.0</td>\n",
       "    </tr>\n",
       "    <tr>\n",
       "      <td>Bear drop</td>\n",
       "      <td>48786302.0</td>\n",
       "    </tr>\n",
       "    <tr>\n",
       "      <td>Negative</td>\n",
       "      <td>5088554.0</td>\n",
       "    </tr>\n",
       "    <tr>\n",
       "      <td>Positive</td>\n",
       "      <td>5523811.5</td>\n",
       "    </tr>\n",
       "    <tr>\n",
       "      <td>Slight negative</td>\n",
       "      <td>4616803.0</td>\n",
       "    </tr>\n",
       "    <tr>\n",
       "      <td>Slight or No change</td>\n",
       "      <td>4043539.5</td>\n",
       "    </tr>\n",
       "    <tr>\n",
       "      <td>Slight positive</td>\n",
       "      <td>5301784.0</td>\n",
       "    </tr>\n",
       "  </tbody>\n",
       "</table>\n",
       "</div>"
      ],
      "text/plain": [
       "                     Total Traded Quantity\n",
       "Trend                                     \n",
       "Among top gainers               12042170.5\n",
       "Among top losers                10985897.0\n",
       "Bear drop                       48786302.0\n",
       "Negative                         5088554.0\n",
       "Positive                         5523811.5\n",
       "Slight negative                  4616803.0\n",
       "Slight or No change              4043539.5\n",
       "Slight positive                  5301784.0"
      ]
     },
     "execution_count": 40,
     "metadata": {},
     "output_type": "execute_result"
    }
   ],
   "source": [
    "#Median Total Traded Quantity\n",
    "df_trend_group.median()"
   ]
  },
  {
   "cell_type": "markdown",
   "metadata": {},
   "source": [
    "## 1.9"
   ]
  },
  {
   "cell_type": "code",
   "execution_count": 41,
   "metadata": {},
   "outputs": [],
   "source": [
    "#Saving dataframe\n",
    "df.to_csv('Saved Datasets/week2.csv')"
   ]
  }
 ],
 "metadata": {
  "kernelspec": {
   "display_name": "Python 3",
   "language": "python",
   "name": "python3"
  },
  "language_info": {
   "codemirror_mode": {
    "name": "ipython",
    "version": 3
   },
   "file_extension": ".py",
   "mimetype": "text/x-python",
   "name": "python",
   "nbconvert_exporter": "python",
   "pygments_lexer": "ipython3",
   "version": "3.7.4"
  }
 },
 "nbformat": 4,
 "nbformat_minor": 2
}
