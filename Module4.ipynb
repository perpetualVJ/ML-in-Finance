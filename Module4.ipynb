{
 "cells": [
  {
   "cell_type": "markdown",
   "metadata": {},
   "source": [
    "# Module 4"
   ]
  },
  {
   "cell_type": "markdown",
   "metadata": {},
   "source": [
    "Importing libraries"
   ]
  },
  {
   "cell_type": "code",
   "execution_count": 1,
   "metadata": {},
   "outputs": [],
   "source": [
    "import pandas as pd #Data Wrangling library\n",
    "import numpy as np #Numerical Python library\n",
    "import matplotlib.pyplot as plt #Data-Visualization library"
   ]
  },
  {
   "cell_type": "markdown",
   "metadata": {},
   "source": [
    "## 4.1 "
   ]
  },
  {
   "cell_type": "code",
   "execution_count": 2,
   "metadata": {},
   "outputs": [
    {
     "data": {
      "text/html": [
       "<div>\n",
       "<style scoped>\n",
       "    .dataframe tbody tr th:only-of-type {\n",
       "        vertical-align: middle;\n",
       "    }\n",
       "\n",
       "    .dataframe tbody tr th {\n",
       "        vertical-align: top;\n",
       "    }\n",
       "\n",
       "    .dataframe thead th {\n",
       "        text-align: right;\n",
       "    }\n",
       "</style>\n",
       "<table border=\"1\" class=\"dataframe\">\n",
       "  <thead>\n",
       "    <tr style=\"text-align: right;\">\n",
       "      <th></th>\n",
       "      <th>Date</th>\n",
       "      <th>Symbol</th>\n",
       "      <th>Series</th>\n",
       "      <th>Prev Close</th>\n",
       "      <th>Open Price</th>\n",
       "      <th>High Price</th>\n",
       "      <th>Low Price</th>\n",
       "      <th>Last Price</th>\n",
       "      <th>Close Price</th>\n",
       "      <th>Average Price</th>\n",
       "      <th>...</th>\n",
       "      <th>Deliverable Qty</th>\n",
       "      <th>% Dly Qt to Traded Qty</th>\n",
       "      <th>Month</th>\n",
       "      <th>Year</th>\n",
       "      <th>Price * Volume</th>\n",
       "      <th>Day_Perc_Change</th>\n",
       "      <th>Trend</th>\n",
       "      <th>14 Day average</th>\n",
       "      <th>Lower S.D.</th>\n",
       "      <th>Higher S.D.</th>\n",
       "    </tr>\n",
       "  </thead>\n",
       "  <tbody>\n",
       "    <tr>\n",
       "      <td>0</td>\n",
       "      <td>2017-06-01</td>\n",
       "      <td>INFY</td>\n",
       "      <td>EQ</td>\n",
       "      <td>977.05</td>\n",
       "      <td>969.3</td>\n",
       "      <td>979.70</td>\n",
       "      <td>958.55</td>\n",
       "      <td>971.25</td>\n",
       "      <td>971.40</td>\n",
       "      <td>969.49</td>\n",
       "      <td>...</td>\n",
       "      <td>1822506</td>\n",
       "      <td>66.17</td>\n",
       "      <td>6</td>\n",
       "      <td>2017</td>\n",
       "      <td>2.675530e+09</td>\n",
       "      <td>-0.578271</td>\n",
       "      <td>Slight negative</td>\n",
       "      <td>968.671429</td>\n",
       "      <td>936.708789</td>\n",
       "      <td>1000.634068</td>\n",
       "    </tr>\n",
       "    <tr>\n",
       "      <td>1</td>\n",
       "      <td>2017-06-02</td>\n",
       "      <td>INFY</td>\n",
       "      <td>EQ</td>\n",
       "      <td>971.40</td>\n",
       "      <td>973.4</td>\n",
       "      <td>975.45</td>\n",
       "      <td>964.20</td>\n",
       "      <td>966.00</td>\n",
       "      <td>969.45</td>\n",
       "      <td>968.76</td>\n",
       "      <td>...</td>\n",
       "      <td>1396644</td>\n",
       "      <td>71.29</td>\n",
       "      <td>6</td>\n",
       "      <td>2017</td>\n",
       "      <td>1.899136e+09</td>\n",
       "      <td>-0.200741</td>\n",
       "      <td>Slight or No change</td>\n",
       "      <td>969.950000</td>\n",
       "      <td>939.543472</td>\n",
       "      <td>1000.356528</td>\n",
       "    </tr>\n",
       "    <tr>\n",
       "      <td>2</td>\n",
       "      <td>2017-06-05</td>\n",
       "      <td>INFY</td>\n",
       "      <td>EQ</td>\n",
       "      <td>969.45</td>\n",
       "      <td>970.0</td>\n",
       "      <td>972.00</td>\n",
       "      <td>957.05</td>\n",
       "      <td>959.00</td>\n",
       "      <td>958.75</td>\n",
       "      <td>961.71</td>\n",
       "      <td>...</td>\n",
       "      <td>1941199</td>\n",
       "      <td>71.07</td>\n",
       "      <td>6</td>\n",
       "      <td>2017</td>\n",
       "      <td>2.618681e+09</td>\n",
       "      <td>-1.103719</td>\n",
       "      <td>Negative</td>\n",
       "      <td>970.217857</td>\n",
       "      <td>940.316774</td>\n",
       "      <td>1000.118940</td>\n",
       "    </tr>\n",
       "    <tr>\n",
       "      <td>3</td>\n",
       "      <td>2017-06-06</td>\n",
       "      <td>INFY</td>\n",
       "      <td>EQ</td>\n",
       "      <td>958.75</td>\n",
       "      <td>965.0</td>\n",
       "      <td>987.50</td>\n",
       "      <td>964.40</td>\n",
       "      <td>980.00</td>\n",
       "      <td>979.35</td>\n",
       "      <td>980.08</td>\n",
       "      <td>...</td>\n",
       "      <td>2018029</td>\n",
       "      <td>57.59</td>\n",
       "      <td>6</td>\n",
       "      <td>2017</td>\n",
       "      <td>3.431978e+09</td>\n",
       "      <td>2.148631</td>\n",
       "      <td>Positive</td>\n",
       "      <td>972.114286</td>\n",
       "      <td>943.638076</td>\n",
       "      <td>1000.590495</td>\n",
       "    </tr>\n",
       "    <tr>\n",
       "      <td>4</td>\n",
       "      <td>2017-06-07</td>\n",
       "      <td>INFY</td>\n",
       "      <td>EQ</td>\n",
       "      <td>979.35</td>\n",
       "      <td>985.0</td>\n",
       "      <td>988.90</td>\n",
       "      <td>945.00</td>\n",
       "      <td>959.30</td>\n",
       "      <td>961.30</td>\n",
       "      <td>963.75</td>\n",
       "      <td>...</td>\n",
       "      <td>2519343</td>\n",
       "      <td>40.45</td>\n",
       "      <td>6</td>\n",
       "      <td>2017</td>\n",
       "      <td>5.986518e+09</td>\n",
       "      <td>-1.843059</td>\n",
       "      <td>Negative</td>\n",
       "      <td>972.082143</td>\n",
       "      <td>943.554569</td>\n",
       "      <td>1000.609717</td>\n",
       "    </tr>\n",
       "  </tbody>\n",
       "</table>\n",
       "<p>5 rows × 23 columns</p>\n",
       "</div>"
      ],
      "text/plain": [
       "         Date Symbol Series  Prev Close  Open Price  High Price  Low Price  \\\n",
       "0  2017-06-01   INFY     EQ      977.05       969.3      979.70     958.55   \n",
       "1  2017-06-02   INFY     EQ      971.40       973.4      975.45     964.20   \n",
       "2  2017-06-05   INFY     EQ      969.45       970.0      972.00     957.05   \n",
       "3  2017-06-06   INFY     EQ      958.75       965.0      987.50     964.40   \n",
       "4  2017-06-07   INFY     EQ      979.35       985.0      988.90     945.00   \n",
       "\n",
       "   Last Price  Close Price  Average Price  ...  Deliverable Qty  \\\n",
       "0      971.25       971.40         969.49  ...          1822506   \n",
       "1      966.00       969.45         968.76  ...          1396644   \n",
       "2      959.00       958.75         961.71  ...          1941199   \n",
       "3      980.00       979.35         980.08  ...          2018029   \n",
       "4      959.30       961.30         963.75  ...          2519343   \n",
       "\n",
       "   % Dly Qt to Traded Qty  Month  Year  Price * Volume  Day_Perc_Change  \\\n",
       "0                   66.17      6  2017    2.675530e+09        -0.578271   \n",
       "1                   71.29      6  2017    1.899136e+09        -0.200741   \n",
       "2                   71.07      6  2017    2.618681e+09        -1.103719   \n",
       "3                   57.59      6  2017    3.431978e+09         2.148631   \n",
       "4                   40.45      6  2017    5.986518e+09        -1.843059   \n",
       "\n",
       "                 Trend  14 Day average  Lower S.D.  Higher S.D.  \n",
       "0      Slight negative      968.671429  936.708789  1000.634068  \n",
       "1  Slight or No change      969.950000  939.543472  1000.356528  \n",
       "2             Negative      970.217857  940.316774  1000.118940  \n",
       "3             Positive      972.114286  943.638076  1000.590495  \n",
       "4             Negative      972.082143  943.554569  1000.609717  \n",
       "\n",
       "[5 rows x 23 columns]"
      ]
     },
     "execution_count": 2,
     "metadata": {},
     "output_type": "execute_result"
    }
   ],
   "source": [
    "#Loading dataset\n",
    "df = pd.read_csv('Saved Datasets/INFY_BOLINGER.csv')\n",
    "\n",
    "#First Five rows\n",
    "df.head()"
   ]
  },
  {
   "cell_type": "code",
   "execution_count": 3,
   "metadata": {},
   "outputs": [
    {
     "data": {
      "text/plain": [
       "(481, 23)"
      ]
     },
     "execution_count": 3,
     "metadata": {},
     "output_type": "execute_result"
    }
   ],
   "source": [
    "#Dimensions of our data\n",
    "df.shape"
   ]
  },
  {
   "cell_type": "markdown",
   "metadata": {},
   "source": [
    "There are 481 observations and 23 features"
   ]
  },
  {
   "cell_type": "code",
   "execution_count": 4,
   "metadata": {},
   "outputs": [],
   "source": [
    "#Converting Date to datetime64\n",
    "df['Date'] = pd.to_datetime(df['Date'])"
   ]
  },
  {
   "cell_type": "code",
   "execution_count": 5,
   "metadata": {},
   "outputs": [],
   "source": [
    "#Setting up Date as Index\n",
    "df.reset_index(inplace = True)"
   ]
  },
  {
   "cell_type": "code",
   "execution_count": 6,
   "metadata": {},
   "outputs": [],
   "source": [
    "#Creating new column Call\n",
    "df['Call'] = '0'\n",
    "for i in range(0, df.shape[0]):\n",
    "    if df.loc[i, 'Close Price'] < df.loc[i, 'Lower S.D.']:\n",
    "        df.loc[i, 'Call'] = 'Buy'\n",
    "    elif df.loc[i, 'Close Price'] > df.loc[i, 'Lower S.D.'] and df.loc[i, 'Close Price'] < df.loc[i, '14 Day average']:\n",
    "        df.loc[i, 'Call'] = 'Hold Buy/Liquidate Short'\n",
    "    elif df.loc[i, 'Close Price'] < df.loc[i, 'Higher S.D.'] and df.loc[i, 'Close Price'] > df.loc[i, '14 Day average']:\n",
    "        df.loc[i, 'Call'] = 'Hold Short/Liquidate Buy'\n",
    "    elif df.loc[i, 'Close Price'] > df.loc[i, 'Higher S.D.']:\n",
    "        df.loc[i, 'Call'] = 'Short'"
   ]
  },
  {
   "cell_type": "code",
   "execution_count": 7,
   "metadata": {},
   "outputs": [],
   "source": [
    "#Data Preprocessing\n",
    "X = df[['Close Price', '14 Day average', 'Lower S.D.', 'Higher S.D.']].values\n",
    "Y = df['Call'].values"
   ]
  },
  {
   "cell_type": "code",
   "execution_count": 8,
   "metadata": {},
   "outputs": [],
   "source": [
    "#Splitting up data into train and test\n",
    "\n",
    "from sklearn.model_selection import train_test_split\n",
    "\n",
    "x_train, x_test, y_train, y_test = train_test_split(X, Y, test_size = 0.2, random_state = 1)"
   ]
  },
  {
   "cell_type": "code",
   "execution_count": 9,
   "metadata": {},
   "outputs": [],
   "source": [
    "#Normalizing up the x_train and x_test\n",
    "\n",
    "from sklearn.preprocessing import StandardScaler\n",
    "\n",
    "x_train = StandardScaler().fit_transform(x_train)\n",
    "x_test = StandardScaler().fit_transform(x_test)"
   ]
  },
  {
   "cell_type": "code",
   "execution_count": 10,
   "metadata": {},
   "outputs": [],
   "source": [
    "#Importing library to find accuracy\n",
    "from sklearn.metrics import accuracy_score"
   ]
  },
  {
   "cell_type": "markdown",
   "metadata": {},
   "source": [
    "#### Classification Model Using K- Nearest Neighbors"
   ]
  },
  {
   "cell_type": "code",
   "execution_count": 11,
   "metadata": {},
   "outputs": [],
   "source": [
    "#Importing libraries\n",
    "from sklearn.neighbors import KNeighborsClassifier"
   ]
  },
  {
   "cell_type": "code",
   "execution_count": 12,
   "metadata": {},
   "outputs": [
    {
     "name": "stdout",
     "output_type": "stream",
     "text": [
      "[0.84536082 0.80412371 0.84536082 0.78350515 0.80412371 0.80412371\n",
      " 0.79381443 0.80412371 0.80412371]\n"
     ]
    }
   ],
   "source": [
    "#Finding out the best value of K for which accuracy of model is maximum\n",
    "\n",
    "Ks = 10\n",
    "mean_acc = np.zeros((Ks - 1))\n",
    "\n",
    "for n in range(1, Ks):\n",
    "    neigh = KNeighborsClassifier(n_neighbors = n)\n",
    "    neigh.fit(x_train, y_train)\n",
    "    yhat = neigh.predict(x_test)\n",
    "    mean_acc[n - 1] = accuracy_score(y_test, yhat)\n",
    "    \n",
    "print(mean_acc)"
   ]
  },
  {
   "cell_type": "code",
   "execution_count": 13,
   "metadata": {},
   "outputs": [
    {
     "name": "stdout",
     "output_type": "stream",
     "text": [
      "The value of K is  1 and accuracy is 0.845360824742268\n"
     ]
    }
   ],
   "source": [
    "#The value of K for which the accuracy of model is maximum\n",
    "print(\"The value of K is \", mean_acc.argmax() + 1, 'and accuracy is', mean_acc.max())"
   ]
  },
  {
   "cell_type": "code",
   "execution_count": 15,
   "metadata": {},
   "outputs": [],
   "source": [
    "#Training our model with K =1\n",
    "neigh = KNeighborsClassifier(n_neighbors = 1).fit(x_train, y_train)"
   ]
  },
  {
   "cell_type": "markdown",
   "metadata": {},
   "source": [
    "#### Classification model using Decision Tree"
   ]
  },
  {
   "cell_type": "code",
   "execution_count": 16,
   "metadata": {},
   "outputs": [],
   "source": [
    "#Importing library\n",
    "from sklearn.tree import DecisionTreeClassifier"
   ]
  },
  {
   "cell_type": "code",
   "execution_count": 17,
   "metadata": {},
   "outputs": [
    {
     "data": {
      "text/plain": [
       "DecisionTreeClassifier(class_weight=None, criterion='entropy', max_depth=3,\n",
       "                       max_features=None, max_leaf_nodes=None,\n",
       "                       min_impurity_decrease=0.0, min_impurity_split=None,\n",
       "                       min_samples_leaf=1, min_samples_split=2,\n",
       "                       min_weight_fraction_leaf=0.0, presort=False,\n",
       "                       random_state=None, splitter='best')"
      ]
     },
     "execution_count": 17,
     "metadata": {},
     "output_type": "execute_result"
    }
   ],
   "source": [
    "#Training model using DecisionTreeClassifier\n",
    "decision_tree = DecisionTreeClassifier(criterion = 'entropy', max_depth = 3)\n",
    "decision_tree.fit(x_train, y_train)"
   ]
  },
  {
   "cell_type": "code",
   "execution_count": 18,
   "metadata": {},
   "outputs": [
    {
     "name": "stdout",
     "output_type": "stream",
     "text": [
      "Accuracy of Decision Tree is:  0.6391752577319587\n"
     ]
    }
   ],
   "source": [
    "#Accuracy of model on test data\n",
    "yhat = decision_tree.predict(x_test)\n",
    "print(\"Accuracy of Decision Tree is: \", accuracy_score(y_test, yhat))"
   ]
  },
  {
   "cell_type": "markdown",
   "metadata": {},
   "source": [
    "#### Classification using Support Vector Machine"
   ]
  },
  {
   "cell_type": "code",
   "execution_count": 19,
   "metadata": {},
   "outputs": [],
   "source": [
    "#Importing library\n",
    "from sklearn.svm import SVC"
   ]
  },
  {
   "cell_type": "code",
   "execution_count": 20,
   "metadata": {},
   "outputs": [
    {
     "data": {
      "text/plain": [
       "SVC(C=1.0, cache_size=200, class_weight=None, coef0=0.0,\n",
       "    decision_function_shape='ovr', degree=3, gamma='auto_deprecated',\n",
       "    kernel='linear', max_iter=-1, probability=False, random_state=None,\n",
       "    shrinking=True, tol=0.001, verbose=False)"
      ]
     },
     "execution_count": 20,
     "metadata": {},
     "output_type": "execute_result"
    }
   ],
   "source": [
    "#Training model using SVC\n",
    "svc = SVC(kernel = 'linear')\n",
    "svc.fit(x_train, y_train)"
   ]
  },
  {
   "cell_type": "code",
   "execution_count": 21,
   "metadata": {},
   "outputs": [
    {
     "name": "stdout",
     "output_type": "stream",
     "text": [
      "Accuracy using Support Vector Machine:  0.9072164948453608\n"
     ]
    }
   ],
   "source": [
    "#Accuracy of model on test data\n",
    "yhat = svc.predict(x_test)\n",
    "print(\"Accuracy using Support Vector Machine: \", accuracy_score(y_test,  yhat))"
   ]
  },
  {
   "cell_type": "markdown",
   "metadata": {},
   "source": [
    "#### The model using Support Vector Machine have the highest accuracy of 0.90. "
   ]
  },
  {
   "cell_type": "markdown",
   "metadata": {},
   "source": [
    "Predicting Trade Calls for TCS Stock"
   ]
  },
  {
   "cell_type": "code",
   "execution_count": 23,
   "metadata": {},
   "outputs": [
    {
     "data": {
      "text/html": [
       "<div>\n",
       "<style scoped>\n",
       "    .dataframe tbody tr th:only-of-type {\n",
       "        vertical-align: middle;\n",
       "    }\n",
       "\n",
       "    .dataframe tbody tr th {\n",
       "        vertical-align: top;\n",
       "    }\n",
       "\n",
       "    .dataframe thead th {\n",
       "        text-align: right;\n",
       "    }\n",
       "</style>\n",
       "<table border=\"1\" class=\"dataframe\">\n",
       "  <thead>\n",
       "    <tr style=\"text-align: right;\">\n",
       "      <th></th>\n",
       "      <th>Symbol</th>\n",
       "      <th>Series</th>\n",
       "      <th>Date</th>\n",
       "      <th>Prev Close</th>\n",
       "      <th>Open Price</th>\n",
       "      <th>High Price</th>\n",
       "      <th>Low Price</th>\n",
       "      <th>Last Price</th>\n",
       "      <th>Close Price</th>\n",
       "      <th>Average Price</th>\n",
       "      <th>Total Traded Quantity</th>\n",
       "      <th>Turnover</th>\n",
       "      <th>No. of Trades</th>\n",
       "      <th>Deliverable Qty</th>\n",
       "      <th>% Dly Qt to Traded Qty</th>\n",
       "    </tr>\n",
       "  </thead>\n",
       "  <tbody>\n",
       "    <tr>\n",
       "      <td>0</td>\n",
       "      <td>TCS</td>\n",
       "      <td>EQ</td>\n",
       "      <td>15-May-2017</td>\n",
       "      <td>2360.65</td>\n",
       "      <td>2375.1</td>\n",
       "      <td>2377.95</td>\n",
       "      <td>2341.60</td>\n",
       "      <td>2368.00</td>\n",
       "      <td>2365.10</td>\n",
       "      <td>2352.60</td>\n",
       "      <td>908802</td>\n",
       "      <td>2.138043e+09</td>\n",
       "      <td>30047</td>\n",
       "      <td>712450</td>\n",
       "      <td>78.39</td>\n",
       "    </tr>\n",
       "    <tr>\n",
       "      <td>1</td>\n",
       "      <td>TCS</td>\n",
       "      <td>EQ</td>\n",
       "      <td>16-May-2017</td>\n",
       "      <td>2365.10</td>\n",
       "      <td>2380.0</td>\n",
       "      <td>2435.00</td>\n",
       "      <td>2373.45</td>\n",
       "      <td>2425.10</td>\n",
       "      <td>2429.15</td>\n",
       "      <td>2410.26</td>\n",
       "      <td>1800513</td>\n",
       "      <td>4.339703e+09</td>\n",
       "      <td>58476</td>\n",
       "      <td>1167534</td>\n",
       "      <td>64.84</td>\n",
       "    </tr>\n",
       "    <tr>\n",
       "      <td>2</td>\n",
       "      <td>TCS</td>\n",
       "      <td>EQ</td>\n",
       "      <td>17-May-2017</td>\n",
       "      <td>2429.15</td>\n",
       "      <td>2433.5</td>\n",
       "      <td>2460.75</td>\n",
       "      <td>2423.00</td>\n",
       "      <td>2450.00</td>\n",
       "      <td>2455.35</td>\n",
       "      <td>2443.31</td>\n",
       "      <td>1438099</td>\n",
       "      <td>3.513729e+09</td>\n",
       "      <td>86412</td>\n",
       "      <td>1031752</td>\n",
       "      <td>71.74</td>\n",
       "    </tr>\n",
       "    <tr>\n",
       "      <td>3</td>\n",
       "      <td>TCS</td>\n",
       "      <td>EQ</td>\n",
       "      <td>18-May-2017</td>\n",
       "      <td>2455.35</td>\n",
       "      <td>2450.0</td>\n",
       "      <td>2572.00</td>\n",
       "      <td>2442.25</td>\n",
       "      <td>2525.00</td>\n",
       "      <td>2536.20</td>\n",
       "      <td>2525.78</td>\n",
       "      <td>2569297</td>\n",
       "      <td>6.489478e+09</td>\n",
       "      <td>111566</td>\n",
       "      <td>1135613</td>\n",
       "      <td>44.20</td>\n",
       "    </tr>\n",
       "    <tr>\n",
       "      <td>4</td>\n",
       "      <td>TCS</td>\n",
       "      <td>EQ</td>\n",
       "      <td>19-May-2017</td>\n",
       "      <td>2536.20</td>\n",
       "      <td>2536.2</td>\n",
       "      <td>2540.55</td>\n",
       "      <td>2486.00</td>\n",
       "      <td>2503.85</td>\n",
       "      <td>2507.15</td>\n",
       "      <td>2506.58</td>\n",
       "      <td>893022</td>\n",
       "      <td>2.238430e+09</td>\n",
       "      <td>63112</td>\n",
       "      <td>517461</td>\n",
       "      <td>57.94</td>\n",
       "    </tr>\n",
       "  </tbody>\n",
       "</table>\n",
       "</div>"
      ],
      "text/plain": [
       "  Symbol Series         Date  Prev Close  Open Price  High Price  Low Price  \\\n",
       "0    TCS     EQ  15-May-2017     2360.65      2375.1     2377.95    2341.60   \n",
       "1    TCS     EQ  16-May-2017     2365.10      2380.0     2435.00    2373.45   \n",
       "2    TCS     EQ  17-May-2017     2429.15      2433.5     2460.75    2423.00   \n",
       "3    TCS     EQ  18-May-2017     2455.35      2450.0     2572.00    2442.25   \n",
       "4    TCS     EQ  19-May-2017     2536.20      2536.2     2540.55    2486.00   \n",
       "\n",
       "   Last Price  Close Price  Average Price  Total Traded Quantity  \\\n",
       "0     2368.00      2365.10        2352.60                 908802   \n",
       "1     2425.10      2429.15        2410.26                1800513   \n",
       "2     2450.00      2455.35        2443.31                1438099   \n",
       "3     2525.00      2536.20        2525.78                2569297   \n",
       "4     2503.85      2507.15        2506.58                 893022   \n",
       "\n",
       "       Turnover  No. of Trades  Deliverable Qty  % Dly Qt to Traded Qty  \n",
       "0  2.138043e+09          30047           712450                   78.39  \n",
       "1  4.339703e+09          58476          1167534                   64.84  \n",
       "2  3.513729e+09          86412          1031752                   71.74  \n",
       "3  6.489478e+09         111566          1135613                   44.20  \n",
       "4  2.238430e+09          63112           517461                   57.94  "
      ]
     },
     "execution_count": 23,
     "metadata": {},
     "output_type": "execute_result"
    }
   ],
   "source": [
    "#Importing stock\n",
    "df_tcs = pd.read_csv('Datasets/Large_Cap/TCS.csv')\n",
    "\n",
    "#First five rows of our dataset\n",
    "df_tcs.head()"
   ]
  },
  {
   "cell_type": "code",
   "execution_count": 25,
   "metadata": {},
   "outputs": [],
   "source": [
    "#Data Preprocessing\n",
    "\n",
    "#Converting datatype of Date column\n",
    "df_tcs['Date'] = pd.to_datetime(df_tcs['Date'])\n",
    "\n",
    "#Setting up date as index\n",
    "df_tcs.set_index('Date', inplace = True)\n",
    "\n",
    "#Calculating Bollinger Columns\n",
    "df_tcs['14 Day average'] = df_tcs['Average Price'].rolling(14).mean()\n",
    "df_tcs['S.D.'] = df_tcs['Average Price'].rolling(14).std()\n",
    "df_tcs['Lower S.D.'] = df_tcs['14 Day average'] - 2 * df_tcs['S.D.']\n",
    "df_tcs['Higher S.D.'] = df_tcs['14 Day average'] + 2 * df_tcs['S.D.']\n",
    "\n",
    "#Removing rows with missing values\n",
    "df_tcs.dropna(inplace = True)\n",
    "\n",
    "#Storing predictor variable\n",
    "X = df_tcs[['Close Price', '14 Day average', 'Lower S.D.', 'Higher S.D.']].values\n",
    "\n",
    "#Normalizing up the variables\n",
    "X = StandardScaler().fit_transform(X)"
   ]
  },
  {
   "cell_type": "code",
   "execution_count": 26,
   "metadata": {},
   "outputs": [],
   "source": [
    "#Predicting up Trade Call\n",
    "df_tcs['Call'] = svc.predict(X)"
   ]
  },
  {
   "cell_type": "markdown",
   "metadata": {},
   "source": [
    "## 4.2"
   ]
  },
  {
   "cell_type": "code",
   "execution_count": 28,
   "metadata": {},
   "outputs": [],
   "source": [
    "#Importing dataset\n",
    "df = pd.read_csv('Datasets/INFY.csv')"
   ]
  },
  {
   "cell_type": "code",
   "execution_count": 29,
   "metadata": {},
   "outputs": [],
   "source": [
    "#Defining new columns\n",
    "\n",
    "#% Change between Open and Close Price for day\n",
    "df['OC_Perc_Change'] = (df['Close Price'] - df['Open Price']) / df['Open Price']\n",
    "df['OC_Perc_Change'] = df['OC_Perc_Change'] * 100\n",
    "\n",
    "#% Change between Low and High Price for day\n",
    "df['LH_Perc_Change'] = (df['High Price'] - df['Low Price']) / df['Low Price']\n",
    "df['LH_Perc_Change'] = df['LH_Perc_Change'] * 100\n",
    "\n",
    "#Calculating percentage change in close price column\n",
    "df['Day_Perc_Change'] = df['Close Price'].pct_change() * 100\n",
    "\n",
    "#Replacing missing value of Day_Perc_Change column with 0\n",
    "df['Day_Perc_Change'].replace(np.nan, 0, inplace = True)\n",
    "\n",
    "\n",
    "#5 day rolling mean of the day to day % change in Close Price\n",
    "df['5 Day Average'] = df['Day_Perc_Change'].rolling(5).mean()\n",
    "\n",
    "#5 day rolling standard deviation of the day to day % change in Close Price\n",
    "df['5 Day SD'] = df['Day_Perc_Change'].rolling(5).std()\n"
   ]
  },
  {
   "cell_type": "code",
   "execution_count": 30,
   "metadata": {},
   "outputs": [],
   "source": [
    "#Creating new column Action\n",
    "\n",
    "df['Action'] = np.nan\n",
    "\n",
    "for i in range(0, df.shape[0] - 1):\n",
    "    if df.loc[i, 'Close Price'] > df.loc[i+1, 'Close Price']:\n",
    "        df['Action'] = -1\n",
    "    elif df.loc[i, 'Close Price'] < df.loc[i+1, 'Close Price']:\n",
    "        df['Action'] = 1"
   ]
  },
  {
   "cell_type": "code",
   "execution_count": 31,
   "metadata": {},
   "outputs": [],
   "source": [
    "#Removinng rows with null values\n",
    "df.dropna(inplace = True)"
   ]
  },
  {
   "cell_type": "code",
   "execution_count": 32,
   "metadata": {},
   "outputs": [],
   "source": [
    "#Resetting the index\n",
    "df.index = range(0, df.shape[0])"
   ]
  },
  {
   "cell_type": "code",
   "execution_count": 33,
   "metadata": {},
   "outputs": [],
   "source": [
    "#Importing library\n",
    "from sklearn.ensemble import RandomForestClassifier"
   ]
  },
  {
   "cell_type": "code",
   "execution_count": 34,
   "metadata": {},
   "outputs": [],
   "source": [
    "#Storing features and target variable\n",
    "X = df[['OC_Perc_Change', 'LH_Perc_Change', '5 Day Average', '5 Day SD']].values\n",
    "Y = df['Action'].values"
   ]
  },
  {
   "cell_type": "code",
   "execution_count": 35,
   "metadata": {},
   "outputs": [],
   "source": [
    "#Splitting up the data\n",
    "x_train, x_test, y_train, y_test = train_test_split(X, Y, test_size = 0.2, random_state = 1)"
   ]
  },
  {
   "cell_type": "code",
   "execution_count": 36,
   "metadata": {},
   "outputs": [
    {
     "data": {
      "text/plain": [
       "RandomForestClassifier(bootstrap=True, class_weight=None, criterion='entropy',\n",
       "                       max_depth=3, max_features='auto', max_leaf_nodes=None,\n",
       "                       min_impurity_decrease=0.0, min_impurity_split=None,\n",
       "                       min_samples_leaf=1, min_samples_split=2,\n",
       "                       min_weight_fraction_leaf=0.0, n_estimators=10,\n",
       "                       n_jobs=None, oob_score=False, random_state=None,\n",
       "                       verbose=0, warm_start=False)"
      ]
     },
     "execution_count": 36,
     "metadata": {},
     "output_type": "execute_result"
    }
   ],
   "source": [
    "#Building up the model\n",
    "\n",
    "random_forest = RandomForestClassifier(n_estimators = 10, criterion = 'entropy', max_depth = 3)\n",
    "random_forest.fit(x_train, y_train)"
   ]
  },
  {
   "cell_type": "code",
   "execution_count": 37,
   "metadata": {},
   "outputs": [
    {
     "name": "stdout",
     "output_type": "stream",
     "text": [
      "Accuracy of Random Forest Model is:  1.0\n"
     ]
    }
   ],
   "source": [
    "#Accuracy of the model on test data\n",
    "yhat = random_forest.predict(x_test)\n",
    "\n",
    "print(\"Accuracy of Random Forest Model is: \", accuracy_score(y_test, yhat))"
   ]
  },
  {
   "cell_type": "code",
   "execution_count": 38,
   "metadata": {},
   "outputs": [],
   "source": [
    "#Changing datatype of Date Column\n",
    "df['Date'] = pd.to_datetime(df['Date'])\n",
    "\n",
    "#Setting up Date as index\n",
    "df.set_index('Date', inplace = True)"
   ]
  },
  {
   "cell_type": "code",
   "execution_count": 39,
   "metadata": {
    "scrolled": true
   },
   "outputs": [
    {
     "data": {
      "text/plain": [
       "Text(0, 0.5, 'Strategy returns')"
      ]
     },
     "execution_count": 39,
     "metadata": {},
     "output_type": "execute_result"
    },
    {
     "data": {
      "image/png": "[encoded data removed]",
      "text/plain": [
       "<Figure size 1080x288 with 1 Axes>"
      ]
     },
     "metadata": {
      "needs_background": "light"
     },
     "output_type": "display_data"
    }
   ],
   "source": [
    "#Cumulative returns plot\n",
    "daily_cr = (df['Day_Perc_Change']).cumprod()\n",
    "daily_cr.plot(kind = 'line', color = 'red', figsize = (15, 4))\n",
    "plt.title('Cumulative return Plot')\n",
    "plt.ylabel('Strategy returns')"
   ]
  }
 ],
 "metadata": {
  "kernelspec": {
   "display_name": "Python 3",
   "language": "python",
   "name": "python3"
  },
  "language_info": {
   "codemirror_mode": {
    "name": "ipython",
    "version": 3
   },
   "file_extension": ".py",
   "mimetype": "text/x-python",
   "name": "python",
   "nbconvert_exporter": "python",
   "pygments_lexer": "ipython3",
   "version": "3.7.4"
  }
 },
 "nbformat": 4,
 "nbformat_minor": 2
}
