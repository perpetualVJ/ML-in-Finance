{
 "cells": [
  {
   "cell_type": "markdown",
   "metadata": {},
   "source": [
    "# Module 5 "
   ]
  },
  {
   "cell_type": "markdown",
   "metadata": {},
   "source": [
    "#  Modern Portfolio Theory"
   ]
  },
  {
   "cell_type": "markdown",
   "metadata": {},
   "source": [
    "Importing libraries"
   ]
  },
  {
   "cell_type": "code",
   "execution_count": 1,
   "metadata": {},
   "outputs": [],
   "source": [
    "import pandas as pd #Data-Wrangling library\n",
    "import numpy as np #Numerical Python Library\n",
    "import matplotlib.pyplot as plt #Data-Visualization library\n",
    "import seaborn as sns #Data-Visualization library"
   ]
  },
  {
   "cell_type": "code",
   "execution_count": 2,
   "metadata": {},
   "outputs": [],
   "source": [
    "#Setting up precision to 6 decimal places\n",
    "pd.set_option('precision',6)"
   ]
  },
  {
   "cell_type": "markdown",
   "metadata": {},
   "source": [
    "## 5.1"
   ]
  },
  {
   "cell_type": "code",
   "execution_count": 3,
   "metadata": {},
   "outputs": [],
   "source": [
    "#Importing dataset\n",
    "df = pd.read_csv('Datasets/INFY.csv')"
   ]
  },
  {
   "cell_type": "code",
   "execution_count": 4,
   "metadata": {},
   "outputs": [
    {
     "data": {
      "text/html": [
       "<div>\n",
       "<style scoped>\n",
       "    .dataframe tbody tr th:only-of-type {\n",
       "        vertical-align: middle;\n",
       "    }\n",
       "\n",
       "    .dataframe tbody tr th {\n",
       "        vertical-align: top;\n",
       "    }\n",
       "\n",
       "    .dataframe thead th {\n",
       "        text-align: right;\n",
       "    }\n",
       "</style>\n",
       "<table border=\"1\" class=\"dataframe\">\n",
       "  <thead>\n",
       "    <tr style=\"text-align: right;\">\n",
       "      <th></th>\n",
       "      <th>Symbol</th>\n",
       "      <th>Series</th>\n",
       "      <th>Date</th>\n",
       "      <th>Prev Close</th>\n",
       "      <th>Open Price</th>\n",
       "      <th>High Price</th>\n",
       "      <th>Low Price</th>\n",
       "      <th>Last Price</th>\n",
       "      <th>Close Price</th>\n",
       "      <th>Average Price</th>\n",
       "      <th>Total Traded Quantity</th>\n",
       "      <th>Turnover</th>\n",
       "      <th>No. of Trades</th>\n",
       "      <th>Deliverable Qty</th>\n",
       "      <th>% Dly Qt to Traded Qty</th>\n",
       "    </tr>\n",
       "  </thead>\n",
       "  <tbody>\n",
       "    <tr>\n",
       "      <td>0</td>\n",
       "      <td>INFY</td>\n",
       "      <td>EQ</td>\n",
       "      <td>15-May-2017</td>\n",
       "      <td>964.25</td>\n",
       "      <td>963.5</td>\n",
       "      <td>963.50</td>\n",
       "      <td>949.10</td>\n",
       "      <td>953.25</td>\n",
       "      <td>951.55</td>\n",
       "      <td>951.49</td>\n",
       "      <td>3648582</td>\n",
       "      <td>3.471580e+09</td>\n",
       "      <td>75335</td>\n",
       "      <td>3052819</td>\n",
       "      <td>83.67</td>\n",
       "    </tr>\n",
       "    <tr>\n",
       "      <td>1</td>\n",
       "      <td>INFY</td>\n",
       "      <td>EQ</td>\n",
       "      <td>16-May-2017</td>\n",
       "      <td>951.55</td>\n",
       "      <td>953.1</td>\n",
       "      <td>960.15</td>\n",
       "      <td>946.95</td>\n",
       "      <td>956.00</td>\n",
       "      <td>955.00</td>\n",
       "      <td>952.92</td>\n",
       "      <td>3065084</td>\n",
       "      <td>2.920775e+09</td>\n",
       "      <td>71808</td>\n",
       "      <td>1858063</td>\n",
       "      <td>60.62</td>\n",
       "    </tr>\n",
       "    <tr>\n",
       "      <td>2</td>\n",
       "      <td>INFY</td>\n",
       "      <td>EQ</td>\n",
       "      <td>17-May-2017</td>\n",
       "      <td>955.00</td>\n",
       "      <td>951.6</td>\n",
       "      <td>958.45</td>\n",
       "      <td>943.85</td>\n",
       "      <td>952.90</td>\n",
       "      <td>952.80</td>\n",
       "      <td>949.48</td>\n",
       "      <td>1457754</td>\n",
       "      <td>1.384110e+09</td>\n",
       "      <td>75429</td>\n",
       "      <td>792251</td>\n",
       "      <td>54.35</td>\n",
       "    </tr>\n",
       "    <tr>\n",
       "      <td>3</td>\n",
       "      <td>INFY</td>\n",
       "      <td>EQ</td>\n",
       "      <td>18-May-2017</td>\n",
       "      <td>952.80</td>\n",
       "      <td>943.0</td>\n",
       "      <td>973.90</td>\n",
       "      <td>942.85</td>\n",
       "      <td>960.25</td>\n",
       "      <td>961.75</td>\n",
       "      <td>962.61</td>\n",
       "      <td>4028924</td>\n",
       "      <td>3.878282e+09</td>\n",
       "      <td>120990</td>\n",
       "      <td>2309450</td>\n",
       "      <td>57.32</td>\n",
       "    </tr>\n",
       "    <tr>\n",
       "      <td>4</td>\n",
       "      <td>INFY</td>\n",
       "      <td>EQ</td>\n",
       "      <td>19-May-2017</td>\n",
       "      <td>961.75</td>\n",
       "      <td>961.5</td>\n",
       "      <td>962.70</td>\n",
       "      <td>947.85</td>\n",
       "      <td>957.40</td>\n",
       "      <td>957.95</td>\n",
       "      <td>954.18</td>\n",
       "      <td>2128698</td>\n",
       "      <td>2.031155e+09</td>\n",
       "      <td>88897</td>\n",
       "      <td>1457747</td>\n",
       "      <td>68.48</td>\n",
       "    </tr>\n",
       "  </tbody>\n",
       "</table>\n",
       "</div>"
      ],
      "text/plain": [
       "  Symbol Series         Date  Prev Close  Open Price  High Price  Low Price  \\\n",
       "0   INFY     EQ  15-May-2017      964.25       963.5      963.50     949.10   \n",
       "1   INFY     EQ  16-May-2017      951.55       953.1      960.15     946.95   \n",
       "2   INFY     EQ  17-May-2017      955.00       951.6      958.45     943.85   \n",
       "3   INFY     EQ  18-May-2017      952.80       943.0      973.90     942.85   \n",
       "4   INFY     EQ  19-May-2017      961.75       961.5      962.70     947.85   \n",
       "\n",
       "   Last Price  Close Price  Average Price  Total Traded Quantity  \\\n",
       "0      953.25       951.55         951.49                3648582   \n",
       "1      956.00       955.00         952.92                3065084   \n",
       "2      952.90       952.80         949.48                1457754   \n",
       "3      960.25       961.75         962.61                4028924   \n",
       "4      957.40       957.95         954.18                2128698   \n",
       "\n",
       "       Turnover  No. of Trades  Deliverable Qty  % Dly Qt to Traded Qty  \n",
       "0  3.471580e+09          75335          3052819                   83.67  \n",
       "1  2.920775e+09          71808          1858063                   60.62  \n",
       "2  1.384110e+09          75429           792251                   54.35  \n",
       "3  3.878282e+09         120990          2309450                   57.32  \n",
       "4  2.031155e+09          88897          1457747                   68.48  "
      ]
     },
     "execution_count": 4,
     "metadata": {},
     "output_type": "execute_result"
    }
   ],
   "source": [
    "#First five rows\n",
    "df.head()"
   ]
  },
  {
   "cell_type": "code",
   "execution_count": 5,
   "metadata": {},
   "outputs": [
    {
     "name": "stdout",
     "output_type": "stream",
     "text": [
      "Daily return Mean:-0.000910\n",
      "Daily return Standard Deviation 0.031804\n"
     ]
    }
   ],
   "source": [
    "#Calculating average and standard deviation of daily return\n",
    "daily_mean = ((df['Close Price'] - df['Prev Close']) / df['Prev Close']).mean()\n",
    "daily_sd = ((df['Close Price'] - df['Prev Close']) / df['Prev Close']).std()\n",
    "\n",
    "print(f\"Daily return Mean:{daily_mean :.6f}\")\n",
    "print(f\"Daily return Standard Deviation {daily_sd:.6f}\")"
   ]
  },
  {
   "cell_type": "code",
   "execution_count": 6,
   "metadata": {},
   "outputs": [
    {
     "name": "stdout",
     "output_type": "stream",
     "text": [
      "Expected mean annual daily return:-0.229436\n",
      "Expected annual volatility:-0.014453\n"
     ]
    }
   ],
   "source": [
    "#Expected mean annual return and volatility of that stock\n",
    "annual_return = daily_mean * 252\n",
    "volatility = daily_mean * np.sqrt(252)\n",
    "\n",
    "print(f\"Expected mean annual daily return:{annual_return :.6f}\")\n",
    "print(f\"Expected annual volatility:{volatility :.6f}\")"
   ]
  },
  {
   "cell_type": "markdown",
   "metadata": {},
   "source": [
    "## 5.2 "
   ]
  },
  {
   "cell_type": "code",
   "execution_count": 8,
   "metadata": {},
   "outputs": [],
   "source": [
    "#Building portfolio\n",
    "\n",
    "#Importing five stocks\n",
    "\n",
    "df_idfc = pd.read_csv('Datasets/Small_Cap/IDFC.csv')\n",
    "df_cipla = pd.read_csv('Datasets/Large_Cap/CIPLA.csv')\n",
    "df_gail = pd.read_csv('Datasets/Large_Cap/GAIL.csv')\n",
    "df_maruti = pd.read_csv('Datasets/Large_Cap/MARUTI.csv')\n",
    "df_reliance = pd.read_csv('Datasets/Large_Cap/RELIANCE.csv')"
   ]
  },
  {
   "cell_type": "code",
   "execution_count": 9,
   "metadata": {},
   "outputs": [],
   "source": [
    "#Data Preprocessing\n",
    "\n",
    "df_idfc['Daily_returns'] = df_idfc['Close Price'] - df_idfc['Prev Close']\n",
    "df_cipla['Daily_returns'] = df_cipla['Close Price'] - df_cipla['Prev Close']\n",
    "df_gail['Daily_returns'] = df_gail['Close Price'] - df_gail['Prev Close']\n",
    "df_maruti['Daily_returns'] = df_maruti['Close Price'] - df_maruti['Prev Close']\n",
    "df_reliance['Daily_returns'] = df_reliance['Close Price'] - df_reliance['Prev Close']\n",
    "\n",
    "\n",
    "df = pd.concat([df_idfc['Daily_returns'], df_cipla['Daily_returns'], df_gail['Daily_returns'],\n",
    "              df_maruti['Daily_returns'], df_reliance['Daily_returns']], axis = 1)\n",
    "\n",
    "#Renaming columns\n",
    "df.columns = ['Idfc', 'Cipla', 'Gail', 'Maruti', 'Reliance']\n",
    "\n",
    "#Removing rows with missing values\n",
    "df.dropna(inplace = True)"
   ]
  },
  {
   "cell_type": "code",
   "execution_count": 10,
   "metadata": {},
   "outputs": [
    {
     "name": "stdout",
     "output_type": "stream",
     "text": [
      "Expected annual return of entire portfolio is: 564.832\n"
     ]
    }
   ],
   "source": [
    "#Expected annual return of entire portfolio\n",
    "\n",
    "\n",
    "expected_annual_return = 252 * 0.2 * (df['Idfc'].mean() + df['Cipla'].mean() + df['Gail'].mean() + df['Maruti'].mean()\n",
    "                                        + df['Reliance'].mean())\n",
    "\n",
    "print(f\"Expected annual return of entire portfolio is: {expected_annual_return :.3f}\")"
   ]
  },
  {
   "cell_type": "code",
   "execution_count": 11,
   "metadata": {},
   "outputs": [
    {
     "name": "stdout",
     "output_type": "stream",
     "text": [
      "Annual volatility of the entire portfolio is: 1261.660\n"
     ]
    }
   ],
   "source": [
    "#Annual Volatility of the entire portfolio\n",
    "\n",
    "#Covariance matrix \n",
    "cov_mat = df.cov()\n",
    "cov_mat_annual = 252 * cov_mat\n",
    "\n",
    "#Weight matrix\n",
    "weights = np.array([0.20, 0.20, 0.20, 0.20, 0.20])\n",
    "\n",
    "annual_volatility = np.sqrt(np.dot(weights.T, np.dot(cov_mat_annual, weights)))\n",
    "\n",
    "print(f\"Annual volatility of the entire portfolio is: {annual_volatility :.3f}\")"
   ]
  },
  {
   "cell_type": "markdown",
   "metadata": {},
   "source": [
    "## 5.3"
   ]
  },
  {
   "cell_type": "code",
   "execution_count": 12,
   "metadata": {},
   "outputs": [],
   "source": [
    "#Scatter Plot for differing value of weights\n",
    "\n",
    "#Calculating returns and volatility for entire different weights\n",
    "\n",
    "weights = []\n",
    "\n",
    "for i in range(1 , 21):\n",
    "    for j in range(1, 21):\n",
    "        for k in range(1, 21):\n",
    "            for l in range(1, 21):\n",
    "                    if(i + j + k + l < 100):\n",
    "                        weights.append([i, j, k, l, 100 - (i + j + k + l)])"
   ]
  },
  {
   "cell_type": "code",
   "execution_count": 13,
   "metadata": {},
   "outputs": [],
   "source": [
    "#Converting weights list into numpy array\n",
    "weights = np.array(weights)"
   ]
  },
  {
   "cell_type": "code",
   "execution_count": 14,
   "metadata": {},
   "outputs": [],
   "source": [
    "weights  = weights / 100"
   ]
  },
  {
   "cell_type": "code",
   "execution_count": 15,
   "metadata": {},
   "outputs": [],
   "source": [
    "#Calculating returns for different weights\n",
    "returns = weights * [df['Idfc'].mean(), df['Cipla'].mean(), df['Gail'].mean(), df['Maruti'].mean(), df['Reliance'].mean()]\n",
    "returns  = returns.sum(axis = 1) * 252"
   ]
  },
  {
   "cell_type": "code",
   "execution_count": 16,
   "metadata": {},
   "outputs": [],
   "source": [
    "returns = pd.DataFrame(returns)"
   ]
  },
  {
   "cell_type": "code",
   "execution_count": 17,
   "metadata": {},
   "outputs": [],
   "source": [
    "#Calculating volatility for different weights\n",
    "volatility = []\n",
    "\n",
    "for weight in weights:\n",
    "    volatility.append(np.sqrt(np.dot(weight.T, np.dot(cov_mat_annual, weight))))"
   ]
  },
  {
   "cell_type": "code",
   "execution_count": 18,
   "metadata": {},
   "outputs": [],
   "source": [
    "volatility = pd.DataFrame(volatility)"
   ]
  },
  {
   "cell_type": "code",
   "execution_count": 19,
   "metadata": {},
   "outputs": [],
   "source": [
    "#New Dataframe df\n",
    "\n",
    "df = pd.concat([returns, volatility], axis = 1)\n",
    "df.columns = ['Returns', 'Volatility']"
   ]
  },
  {
   "cell_type": "code",
   "execution_count": 20,
   "metadata": {},
   "outputs": [],
   "source": [
    "#Calculating Sharp ratio\n",
    "df['Sharp'] = df['Returns'] / df['Volatility']"
   ]
  },
  {
   "cell_type": "code",
   "execution_count": 21,
   "metadata": {},
   "outputs": [
    {
     "data": {
      "text/plain": [
       "[<matplotlib.lines.Line2D at 0xdca2550>]"
      ]
     },
     "execution_count": 21,
     "metadata": {},
     "output_type": "execute_result"
    },
    {
     "data": {
      "image/png": "[encoded data removed]",
      "text/plain": [
       "<Figure size 1080x504 with 2 Axes>"
      ]
     },
     "metadata": {
      "needs_background": "light"
     },
     "output_type": "display_data"
    }
   ],
   "source": [
    "#Scatter plot\n",
    "ax = df.plot.scatter(x = 'Volatility', y = 'Returns', c = 'Sharp', figsize = (15, 7), colormap='RdBu')\n",
    "plt.xlabel('Volatility')\n",
    "plt.ylabel('Returns')\n",
    "plt.title('Returns / Volatility')\n",
    "\n",
    "\n",
    "#Portfolio with highest sharp ratio\n",
    "sharp_max = df['Sharp'].idxmax()\n",
    "plt.plot(df.loc[sharp_max, 'Volatility'], df.loc[sharp_max,'Returns'], 'r*')\n",
    "\n",
    "\n",
    "#Portfolio with the lowest volatility\n",
    "vol_min = df['Volatility'].idxmin()\n",
    "plt.plot(df.loc[vol_min, 'Volatility'], df.loc[vol_min,'Returns'], 'b*')"
   ]
  },
  {
   "cell_type": "markdown",
   "metadata": {},
   "source": [
    "The blue marker represents portfolio with highest sharp ratio and blue marker represents portfolio with lowest sharp ratio."
   ]
  }
 ],
 "metadata": {
  "kernelspec": {
   "display_name": "Python 3",
   "language": "python",
   "name": "python3"
  },
  "language_info": {
   "codemirror_mode": {
    "name": "ipython",
    "version": 3
   },
   "file_extension": ".py",
   "mimetype": "text/x-python",
   "name": "python",
   "nbconvert_exporter": "python",
   "pygments_lexer": "ipython3",
   "version": "3.7.4"
  }
 },
 "nbformat": 4,
 "nbformat_minor": 2
}
